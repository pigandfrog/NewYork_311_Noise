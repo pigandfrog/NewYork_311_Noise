{
  "nbformat": 4,
  "nbformat_minor": 0,
  "metadata": {
    "colab": {
      "name": "311Calls_and_noise_ipynb",
      "provenance": [],
      "collapsed_sections": [],
      "include_colab_link": true
    },
    "kernelspec": {
      "name": "python3",
      "display_name": "Python 3"
    }
  },
  "cells": [
    {
      "cell_type": "markdown",
      "metadata": {
        "id": "view-in-github",
        "colab_type": "text"
      },
      "source": [
        "<a href=\"https://colab.research.google.com/github/pigandfrog/NewYork_311_Noise/blob/master/311Calls_and_noise_ipynb.ipynb\" target=\"_parent\"><img src=\"https://colab.research.google.com/assets/colab-badge.svg\" alt=\"Open In Colab\"/></a>"
      ]
    },
    {
      "cell_type": "code",
      "metadata": {
        "id": "NSdLYbazLK49",
        "colab_type": "code",
        "colab": {}
      },
      "source": [
        "# imports\n",
        "import pandas as pd\n",
        "import numpy as np\n",
        "import matplotlib.pyplot as plt\n",
        "import seaborn as sns\n",
        "import datetime\n"
      ],
      "execution_count": 0,
      "outputs": []
    },
    {
      "cell_type": "markdown",
      "metadata": {
        "id": "rz1_j-MamYNQ",
        "colab_type": "text"
      },
      "source": [
        "The data is 311 calls from New York City for the year 2017.  I had pre-filtered them on the website so that they only contain calls that have to do with noise distrubances."
      ]
    },
    {
      "cell_type": "code",
      "metadata": {
        "id": "7raVJyj0lo-J",
        "colab_type": "code",
        "colab": {}
      },
      "source": [
        "# Bringing in the pieces of the dataFrame.  I had broken the dataFrame up\n",
        "# so that it would be able to fit the whole data on github.\n",
        "\n",
        "url_1 = \"https://raw.githubusercontent.com/pigandfrog/NewYork_311_Noise/master/NewYorkNoise2017_first.csv\"\n",
        "url_2 = 'https://raw.githubusercontent.com/pigandfrog/NewYork_311_Noise/master/NewYorkNoise2017_second.csv'\n",
        "url_3 = 'https://raw.githubusercontent.com/pigandfrog/NewYork_311_Noise/master/NewYorkNoise2017_third.csv'\n",
        "url_4 = 'https://raw.githubusercontent.com/pigandfrog/NewYork_311_Noise/master/NewYorkNoise2017_fourth.csv'\n",
        "url_5 = 'https://raw.githubusercontent.com/pigandfrog/NewYork_311_Noise/master/NewYorkNoise2017_fifth.csv'\n",
        "url_6 = 'https://raw.githubusercontent.com/pigandfrog/NewYork_311_Noise/master/NewYorkNoise2017_six.csv'\n",
        "url_7 = 'https://raw.githubusercontent.com/pigandfrog/NewYork_311_Noise/master/NewYorkNoise2017_seventh.csv'\n",
        "url_8 = 'https://raw.githubusercontent.com/pigandfrog/NewYork_311_Noise/master/NewYorkNoise2017_eighth.csv'\n",
        "url_9 = 'https://raw.githubusercontent.com/pigandfrog/NewYork_311_Noise/master/NewYorkNoise2017_ninth.csv'\n",
        "url_10 = 'https://raw.githubusercontent.com/pigandfrog/NewYork_311_Noise/master/NewYorkNoise2017_tenth.csv'\n",
        "url_11 = 'https://raw.githubusercontent.com/pigandfrog/NewYork_311_Noise/master/NewYorkNoise2017_eleventh.csv'\n",
        "url_12 = 'https://raw.githubusercontent.com/pigandfrog/NewYork_311_Noise/master/NewYorkNoise2017_twelve.csv'"
      ],
      "execution_count": 0,
      "outputs": []
    },
    {
      "cell_type": "code",
      "metadata": {
        "id": "9rYMy-Mqpok7",
        "colab_type": "code",
        "colab": {}
      },
      "source": [
        "# The are the columns that I will read in. Thus dropping some of the columns before reading in the dataFrame.\n",
        "columns_to_use = ['Created Date', 'Complaint Type', 'Descriptor', 'Location Type', 'Incident Address']  \n",
        "numerical_col_to_use = [1, 5, 6, 7, 9]"
      ],
      "execution_count": 0,
      "outputs": []
    },
    {
      "cell_type": "code",
      "metadata": {
        "id": "1TyFsPPvCup_",
        "colab_type": "code",
        "colab": {}
      },
      "source": [
        "# Putting all the urls into a list except for the first url.\n",
        "# Used to read in all the dataFrames\n",
        "url_List = [url_2, url_3, url_4, url_5, url_6, url_7, url_8, url_9, url_10, url_11, url_12]"
      ],
      "execution_count": 0,
      "outputs": []
    },
    {
      "cell_type": "code",
      "metadata": {
        "id": "LveqRGuxCPdK",
        "colab_type": "code",
        "colab": {}
      },
      "source": [
        "df_1 = pd.read_csv(url_1, usecols=columns_to_use)"
      ],
      "execution_count": 0,
      "outputs": []
    },
    {
      "cell_type": "code",
      "metadata": {
        "id": "MPVfJurCxuYt",
        "colab_type": "code",
        "colab": {}
      },
      "source": [
        "# Putting the urls into a list to read them into a dataframes\n",
        "# Will return a list of the dataframes\n",
        "def readUrl_for_dataframes(url_List):\n",
        "  theList = []\n",
        "  for i in url_List:\n",
        "    d = pd.read_csv(i, header=None, usecols=numerical_col_to_use)\n",
        "    d.columns = columns_to_use\n",
        "    theList.append(d)\n",
        "  return theList"
      ],
      "execution_count": 0,
      "outputs": []
    },
    {
      "cell_type": "code",
      "metadata": {
        "id": "H1qVxu2E-4jx",
        "colab_type": "code",
        "colab": {}
      },
      "source": [
        "# Function for putting the dataFrame together.  For just one complete dataFrame\n",
        "def concatData(dataFrameList, firstDataFrame):\n",
        "  for i in dataFrameList:\n",
        "    firstDataFrame  = pd.concat([firstDataFrame, i],ignore_index=True)\n",
        "  return firstDataFrame"
      ],
      "execution_count": 0,
      "outputs": []
    },
    {
      "cell_type": "code",
      "metadata": {
        "id": "cWlynqhhxWSm",
        "colab_type": "code",
        "colab": {}
      },
      "source": [
        "# Building the dataFrame into a single dataFrame\n",
        "dataFrameList = readUrl_for_dataframes(url_List)\n",
        "\n",
        "df = concatData(dataFrameList, df_1)\n"
      ],
      "execution_count": 0,
      "outputs": []
    },
    {
      "cell_type": "code",
      "metadata": {
        "id": "R_x7dmDnEEBl",
        "colab_type": "code",
        "outputId": "23f4b629-44aa-46e7-c1a1-62b991a91a08",
        "colab": {
          "base_uri": "https://localhost:8080/",
          "height": 174
        }
      },
      "source": [
        "print(df.shape)\n",
        "df.head(2)"
      ],
      "execution_count": 110,
      "outputs": [
        {
          "output_type": "stream",
          "text": [
            "(448309, 5)\n"
          ],
          "name": "stdout"
        },
        {
          "output_type": "execute_result",
          "data": {
            "text/html": [
              "<div>\n",
              "<style scoped>\n",
              "    .dataframe tbody tr th:only-of-type {\n",
              "        vertical-align: middle;\n",
              "    }\n",
              "\n",
              "    .dataframe tbody tr th {\n",
              "        vertical-align: top;\n",
              "    }\n",
              "\n",
              "    .dataframe thead th {\n",
              "        text-align: right;\n",
              "    }\n",
              "</style>\n",
              "<table border=\"1\" class=\"dataframe\">\n",
              "  <thead>\n",
              "    <tr style=\"text-align: right;\">\n",
              "      <th></th>\n",
              "      <th>Created Date</th>\n",
              "      <th>Complaint Type</th>\n",
              "      <th>Descriptor</th>\n",
              "      <th>Location Type</th>\n",
              "      <th>Incident Address</th>\n",
              "    </tr>\n",
              "  </thead>\n",
              "  <tbody>\n",
              "    <tr>\n",
              "      <th>0</th>\n",
              "      <td>12/31/2016 12:00:17 AM</td>\n",
              "      <td>Noise - Commercial</td>\n",
              "      <td>Loud Music/Party</td>\n",
              "      <td>Club/Bar/Restaurant</td>\n",
              "      <td>964 MCDONALD AVENUE</td>\n",
              "    </tr>\n",
              "    <tr>\n",
              "      <th>1</th>\n",
              "      <td>12/31/2016 12:00:50 AM</td>\n",
              "      <td>Noise - Residential</td>\n",
              "      <td>Loud Music/Party</td>\n",
              "      <td>Residential Building/House</td>\n",
              "      <td>99 ALLEN STREET</td>\n",
              "    </tr>\n",
              "  </tbody>\n",
              "</table>\n",
              "</div>"
            ],
            "text/plain": [
              "             Created Date  ...     Incident Address\n",
              "0  12/31/2016 12:00:17 AM  ...  964 MCDONALD AVENUE\n",
              "1  12/31/2016 12:00:50 AM  ...      99 ALLEN STREET\n",
              "\n",
              "[2 rows x 5 columns]"
            ]
          },
          "metadata": {
            "tags": []
          },
          "execution_count": 110
        }
      ]
    },
    {
      "cell_type": "code",
      "metadata": {
        "id": "XWmaGD-aHgZt",
        "colab_type": "code",
        "outputId": "f6921e77-8672-4cac-e208-69df3d39a38f",
        "colab": {
          "base_uri": "https://localhost:8080/",
          "height": 118
        }
      },
      "source": [
        "# Checking to see what are the null values\n",
        "df.isnull().sum()"
      ],
      "execution_count": 111,
      "outputs": [
        {
          "output_type": "execute_result",
          "data": {
            "text/plain": [
              "Created Date            0\n",
              "Complaint Type          0\n",
              "Descriptor              0\n",
              "Location Type       60251\n",
              "Incident Address    50574\n",
              "dtype: int64"
            ]
          },
          "metadata": {
            "tags": []
          },
          "execution_count": 111
        }
      ]
    },
    {
      "cell_type": "code",
      "metadata": {
        "id": "i5S-XtmGKjUu",
        "colab_type": "code",
        "outputId": "bf26aa54-7ef5-4085-cdd2-5055ea372d33",
        "colab": {
          "base_uri": "https://localhost:8080/",
          "height": 205
        }
      },
      "source": [
        "# Trying to see what I want to do with the null values in the Location Type\n",
        "# Filtering the data where all the Location Type is NULL\n",
        "locationTypeNull = df[df['Location Type'].isna()]\n",
        "print(locationTypeNull.head())\n",
        "print(\"The number of NAN that are in \\\"Incident Address\\\" in LocationTypeNull is \\n\", \n",
        "      locationTypeNull['Incident Address'].isnull().sum(),\"  The number of entries in the LocationTypeNull is \",\n",
        "      len(locationTypeNull.index) )"
      ],
      "execution_count": 112,
      "outputs": [
        {
          "output_type": "stream",
          "text": [
            "               Created Date Complaint Type  ... Location Type       Incident Address\n",
            "22   12/31/2016 12:09:00 AM          Noise  ...           NaN  43-10 CRESCENT STREET\n",
            "23   12/31/2016 12:10:00 AM          Noise  ...           NaN          2315 BROADWAY\n",
            "47   12/31/2016 12:20:00 AM          Noise  ...           NaN      53 MASPETH AVENUE\n",
            "100  12/31/2016 12:48:00 AM          Noise  ...           NaN     437 BLEEKER STREET\n",
            "139  12/31/2016 01:07:00 AM          Noise  ...           NaN                    NaN\n",
            "\n",
            "[5 rows x 5 columns]\n",
            "The number of NAN that are in \"Incident Address\" in LocationTypeNull is \n",
            " 13283   The number of entries in the LocationTypeNull is  60251\n"
          ],
          "name": "stdout"
        }
      ]
    },
    {
      "cell_type": "code",
      "metadata": {
        "id": "t4a87hx8PfGl",
        "colab_type": "code",
        "outputId": "45b81600-178e-47d3-f083-012b4fb7134e",
        "colab": {
          "base_uri": "https://localhost:8080/",
          "height": 218
        }
      },
      "source": [
        "# Looking for the dates that are still present in the filtered dataSet\n",
        "locationTypeNull['Created Date'].value_counts()"
      ],
      "execution_count": 113,
      "outputs": [
        {
          "output_type": "execute_result",
          "data": {
            "text/plain": [
              "09/23/2017 09:25:00 AM    21\n",
              "09/23/2017 10:41:00 AM    17\n",
              "05/25/2017 09:21:00 AM    15\n",
              "09/23/2017 09:24:00 AM    14\n",
              "09/23/2017 10:40:00 AM    11\n",
              "                          ..\n",
              "07/13/2017 05:32:00 AM     1\n",
              "05/05/2017 10:05:00 PM     1\n",
              "12/22/2017 06:36:00 PM     1\n",
              "06/01/2017 10:50:00 PM     1\n",
              "12/28/2017 01:23:00 PM     1\n",
              "Name: Created Date, Length: 54587, dtype: int64"
            ]
          },
          "metadata": {
            "tags": []
          },
          "execution_count": 113
        }
      ]
    },
    {
      "cell_type": "code",
      "metadata": {
        "id": "2z7zcf7PxLUe",
        "colab_type": "code",
        "outputId": "a0c94263-8885-42b6-a77e-9f6c12dbfb90",
        "colab": {
          "base_uri": "https://localhost:8080/",
          "height": 118
        }
      },
      "source": [
        "# Checking the dtypes of the colums.  I will want the first column in date format\n",
        "df.dtypes"
      ],
      "execution_count": 114,
      "outputs": [
        {
          "output_type": "execute_result",
          "data": {
            "text/plain": [
              "Created Date        object\n",
              "Complaint Type      object\n",
              "Descriptor          object\n",
              "Location Type       object\n",
              "Incident Address    object\n",
              "dtype: object"
            ]
          },
          "metadata": {
            "tags": []
          },
          "execution_count": 114
        }
      ]
    },
    {
      "cell_type": "code",
      "metadata": {
        "id": "VxAqb0C2E3Rp",
        "colab_type": "code",
        "colab": {}
      },
      "source": [
        "# Changing the \"created date\" to a date format\n",
        "df['Created Date'] = pd.to_datetime(df['Created Date'])"
      ],
      "execution_count": 0,
      "outputs": []
    },
    {
      "cell_type": "code",
      "metadata": {
        "id": "xg73vv4JFS_5",
        "colab_type": "code",
        "outputId": "618fc9c4-de3a-48cf-b200-f6d30c8bda48",
        "colab": {
          "base_uri": "https://localhost:8080/",
          "height": 134
        }
      },
      "source": [
        "print(df['Created Date'].dtypes)\n",
        "df['Created Date'].sample(5)"
      ],
      "execution_count": 116,
      "outputs": [
        {
          "output_type": "stream",
          "text": [
            "datetime64[ns]\n"
          ],
          "name": "stdout"
        },
        {
          "output_type": "execute_result",
          "data": {
            "text/plain": [
              "126217   2017-05-01 00:12:12\n",
              "174294   2017-06-03 22:34:17\n",
              "410732   2017-11-20 18:59:00\n",
              "146075   2017-05-17 17:38:05\n",
              "194470   2017-06-16 23:03:30\n",
              "Name: Created Date, dtype: datetime64[ns]"
            ]
          },
          "metadata": {
            "tags": []
          },
          "execution_count": 116
        }
      ]
    },
    {
      "cell_type": "code",
      "metadata": {
        "id": "P4yu45W1GwjJ",
        "colab_type": "code",
        "outputId": "e7150789-4485-4f7e-b044-7db6f9263210",
        "colab": {
          "base_uri": "https://localhost:8080/",
          "height": 185
        }
      },
      "source": [
        "\n",
        "df['Location Type'].value_counts(dropna=False)"
      ],
      "execution_count": 117,
      "outputs": [
        {
          "output_type": "execute_result",
          "data": {
            "text/plain": [
              "Residential Building/House    230954\n",
              "Street/Sidewalk               102667\n",
              "NaN                            60251\n",
              "Store/Commercial               25888\n",
              "Club/Bar/Restaurant            21664\n",
              "Park/Playground                 4678\n",
              "Above Address                   1063\n",
              "House of Worship                 907\n",
              "Sidewalk                         237\n",
              "Name: Location Type, dtype: int64"
            ]
          },
          "metadata": {
            "tags": []
          },
          "execution_count": 117
        }
      ]
    },
    {
      "cell_type": "code",
      "metadata": {
        "id": "c8X9X5MF3Qj3",
        "colab_type": "code",
        "outputId": "2a19f996-7f49-4412-98ae-4d184e843a11",
        "colab": {
          "base_uri": "https://localhost:8080/",
          "height": 185
        }
      },
      "source": [
        "# Checking the types of values that are present in \n",
        "# \"Complaint Type\".\n",
        "df['Complaint Type'].value_counts(dropna=False)"
      ],
      "execution_count": 118,
      "outputs": [
        {
          "output_type": "execute_result",
          "data": {
            "text/plain": [
              "Noise - Residential         230954\n",
              "Noise - Street/Sidewalk      73210\n",
              "Noise                        60251\n",
              "Noise - Commercial           47552\n",
              "Noise - Vehicle              29457\n",
              "Noise - Park                  4678\n",
              "Noise - Helicopter            1063\n",
              "Noise - House of Worship       907\n",
              "Collection Truck Noise         237\n",
              "Name: Complaint Type, dtype: int64"
            ]
          },
          "metadata": {
            "tags": []
          },
          "execution_count": 118
        }
      ]
    },
    {
      "cell_type": "code",
      "metadata": {
        "id": "GR7_j_Rv3kS1",
        "colab_type": "code",
        "outputId": "6eaad1e0-0078-4c29-d726-565701b8bce6",
        "colab": {
          "base_uri": "https://localhost:8080/",
          "height": 504
        }
      },
      "source": [
        "# Checking the type of values from the \"Descriptor\" type\n",
        "print(\"Number of values: \", len(df['Descriptor'].value_counts()), \"\\n\")\n",
        "df['Descriptor'].value_counts(dropna=False)"
      ],
      "execution_count": 119,
      "outputs": [
        {
          "output_type": "stream",
          "text": [
            "Number of values:  26 \n",
            "\n"
          ],
          "name": "stdout"
        },
        {
          "output_type": "execute_result",
          "data": {
            "text/plain": [
              "Loud Music/Party                                         243008\n",
              "Banging/Pounding                                          66450\n",
              "Loud Talking                                              41736\n",
              "Noise: Construction Before/After Hours (NM1)              27324\n",
              "Car/Truck Music                                           16695\n",
              "Noise: Construction Equipment (NC1)                        9149\n",
              "Car/Truck Horn                                             7376\n",
              "Engine Idling                                              7351\n",
              "Noise, Barking Dog (NR5)                                   6916\n",
              "Noise: air condition/ventilation equipment (NV1)           4769\n",
              "Loud Television                                            4142\n",
              "Noise: Alarms (NR3)                                        4044\n",
              "Noise: Jack Hammering (NC2)                                3852\n",
              "Noise, Ice Cream Truck (NR4)                               1524\n",
              "Noise: Private Carting Noise (NQ1)                         1364\n",
              "Other                                                       840\n",
              "Noise:  lawn care equipment (NCL)                           556\n",
              "Noise: Manufacturing Noise (NK1)                            335\n",
              "Noise: Boat(Engine,Music,Etc) (NR10)                        259\n",
              "21 Collection Truck Noise                                   237\n",
              "Noise, Other Animals (NR6)                                  130\n",
              "NYPD                                                        127\n",
              "News Gathering                                               96\n",
              "Noise: Other Noise Sources (Use Comments) (NZZ)              13\n",
              "Noise: Loud Music/Nighttime(Mark Date And Time) (NP1)        13\n",
              "Noise: Loud Music/Daytime (Mark Date And Time) (NN1)          3\n",
              "Name: Descriptor, dtype: int64"
            ]
          },
          "metadata": {
            "tags": []
          },
          "execution_count": 119
        }
      ]
    },
    {
      "cell_type": "code",
      "metadata": {
        "id": "RyfMwQiINK1-",
        "colab_type": "code",
        "colab": {}
      },
      "source": [
        "# Creating a copy of the dataFrame\n",
        "noise = df.copy()"
      ],
      "execution_count": 0,
      "outputs": []
    },
    {
      "cell_type": "markdown",
      "metadata": {
        "id": "pF2qZh0zMOy8",
        "colab_type": "text"
      },
      "source": [
        "# What is the most noisy month in New York City?\n"
      ]
    },
    {
      "cell_type": "code",
      "metadata": {
        "id": "ix_ZZ90e4oxC",
        "colab_type": "code",
        "colab": {}
      },
      "source": [
        "# Creating a function that will return a list that will be a list of tuples.\n",
        "# The tuples will be index 0: dataframe of Month, index 1: string of the Month.\n",
        "def byMonth(df):\n",
        "  tList = [] # the list that will contain the tuples\n",
        "  month = ['January', 'February', 'March', 'April', 'May', 'June', 'July',\n",
        "           'August', 'September', 'October', 'November', 'December']\n",
        "  \n",
        "  for i in range(1,13):\n",
        "    \n",
        "    tList.append((noise[noise['Created Date'].dt.month == i], month[i-1]))\n",
        "  return tList\n",
        "  "
      ],
      "execution_count": 0,
      "outputs": []
    },
    {
      "cell_type": "code",
      "metadata": {
        "id": "-FGDRW13UEXr",
        "colab_type": "code",
        "colab": {}
      },
      "source": [
        "# List of dataFrames by month\n",
        "# Decided to put both of the dataframes and months in two separate lists\n",
        "# in preparation for visulalization\n",
        "monthList = byMonth(noise)\n",
        "\n",
        "length_of_data_by_month = []\n",
        "data_by_month = []\n",
        "theMonthNames = []\n",
        "\n",
        "# Building three different lists that contain the will the \n",
        "# length_of_data_by_month\n",
        "# data_by_month in list\n",
        "# theMonthnames\n",
        "\n",
        "for i in range(12):\n",
        "  length_of_data_by_month.append(len(monthList[i][0]))\n",
        "  data_by_month.append(monthList[i][0])\n",
        "  theMonthNames.append(monthList[i][1])\n"
      ],
      "execution_count": 0,
      "outputs": []
    },
    {
      "cell_type": "code",
      "metadata": {
        "id": "sq4l-0R6VDDA",
        "colab_type": "code",
        "outputId": "8e38f85f-940d-4391-eebe-88a23d2a93ec",
        "colab": {
          "base_uri": "https://localhost:8080/",
          "height": 110
        }
      },
      "source": [
        "noise.head(1)"
      ],
      "execution_count": 123,
      "outputs": [
        {
          "output_type": "execute_result",
          "data": {
            "text/html": [
              "<div>\n",
              "<style scoped>\n",
              "    .dataframe tbody tr th:only-of-type {\n",
              "        vertical-align: middle;\n",
              "    }\n",
              "\n",
              "    .dataframe tbody tr th {\n",
              "        vertical-align: top;\n",
              "    }\n",
              "\n",
              "    .dataframe thead th {\n",
              "        text-align: right;\n",
              "    }\n",
              "</style>\n",
              "<table border=\"1\" class=\"dataframe\">\n",
              "  <thead>\n",
              "    <tr style=\"text-align: right;\">\n",
              "      <th></th>\n",
              "      <th>Created Date</th>\n",
              "      <th>Complaint Type</th>\n",
              "      <th>Descriptor</th>\n",
              "      <th>Location Type</th>\n",
              "      <th>Incident Address</th>\n",
              "    </tr>\n",
              "  </thead>\n",
              "  <tbody>\n",
              "    <tr>\n",
              "      <th>0</th>\n",
              "      <td>2016-12-31 00:00:17</td>\n",
              "      <td>Noise - Commercial</td>\n",
              "      <td>Loud Music/Party</td>\n",
              "      <td>Club/Bar/Restaurant</td>\n",
              "      <td>964 MCDONALD AVENUE</td>\n",
              "    </tr>\n",
              "  </tbody>\n",
              "</table>\n",
              "</div>"
            ],
            "text/plain": [
              "         Created Date  ...     Incident Address\n",
              "0 2016-12-31 00:00:17  ...  964 MCDONALD AVENUE\n",
              "\n",
              "[1 rows x 5 columns]"
            ]
          },
          "metadata": {
            "tags": []
          },
          "execution_count": 123
        }
      ]
    },
    {
      "cell_type": "code",
      "metadata": {
        "id": "vAQExP_Ac-hE",
        "colab_type": "code",
        "outputId": "35608c35-c10e-4993-b233-901f01676fe7",
        "colab": {
          "base_uri": "https://localhost:8080/",
          "height": 524
        }
      },
      "source": [
        "# What are the Noisiest months\n",
        "\n",
        "# This is the fontdictionary that I am using in this project\n",
        "myfontdict = {'family': 'serif', 'color':'#de129d', 'size':'20'}\n",
        "\n",
        "\n",
        "plotFont = {'color': 'hotpink', 'size': '15'}\n",
        "plt.figure(figsize=(12,8))\n",
        "plt.ylabel(\"Number or Noise complaints\", fontdict={\"color\":\"#de129d\", 'size':15})\n",
        "\n",
        "# Putting a comma in the ylabel\n",
        "\n",
        "\n",
        "\n",
        "plt.title(\"Which are the noisiest months?\", fontdict=myfontdict)\n",
        "theAx = sns.barplot(theMonthNames, length_of_data_by_month )\n",
        "\n",
        "theAx.set_yticklabels([ '0', '10,000', '20,000','30,000', '40,000' ]);\n",
        "\n"
      ],
      "execution_count": 124,
      "outputs": [
        {
          "output_type": "display_data",
          "data": {
            "image/png": "[encoded data removed]",
            "text/plain": [
              "<Figure size 864x576 with 1 Axes>"
            ]
          },
          "metadata": {
            "tags": []
          }
        }
      ]
    },
    {
      "cell_type": "markdown",
      "metadata": {
        "id": "qxkDSzsnnwYq",
        "colab_type": "text"
      },
      "source": [
        "# What are the most common causes of the noise distubances"
      ]
    },
    {
      "cell_type": "code",
      "metadata": {
        "id": "kAJj6yNFd48c",
        "colab_type": "code",
        "colab": {}
      },
      "source": [
        "# This is an inner function that will be used to help set the state in the mostCommonCause function\n",
        "# Will return a tuple of the searchLabel and number\n",
        "def setUp(tSearchBy, theType):\n",
        "  \n",
        "  searchLabel = ['January', 'February', 'March', 'April', 'May', 'June', 'July',\n",
        "           'August', 'September', 'October', 'November', 'December']\n",
        "  number = [0,1,2,3,4,5,6,7,8,9,10,11]\n",
        "\n",
        "  if theType != 'month':\n",
        "    searchLabel = ['12 a.m.', '1 a.m.', '2 a.m.', '3 a.m.', '4 a.m.', '5 a.m.', '6 a.m.', '7 a.m.', '8 a.m.', '9 a.m.', '10 a.m.', '11 a.m.', \n",
        "                   '12 p.m.', '1 p.m.', '2 p.m.', '3 p.m.', '4 p.m.', '5 p.m.', '6 p.m.', '7 p.m.', '8 p.m.', '9 p.m.', '10 p.m.', '11 p.m.']\n",
        "    if tSearchBy == 'all':\n",
        "      number = [0,1,2,3,4,5,6,7,8,9,10,11, 12, 13,14,15,16,17,18,19,20,21,22,23]\n",
        "    else:\n",
        "      tSearchBy = np.array(tSearchBy)\n",
        "      number = (tSearchBy - 1)\n",
        "  elif tSearchBy != 'all':\n",
        "    tSearchBy = np.array(tSearchBy)\n",
        "    number = (tSearchBy -1)\n",
        "  return searchLabel, number"
      ],
      "execution_count": 0,
      "outputs": []
    },
    {
      "cell_type": "code",
      "metadata": {
        "id": "jDOO0n3wzQUR",
        "colab_type": "code",
        "colab": {}
      },
      "source": [
        "# This is an inner function that will be used to get the specific descriptors wanted\n",
        "# This method is only called when there are specific descriptors wanted.\n",
        "def getSpecificDescriptors(dataFrameList, searchLabel, number, descriptorsWanted):\n",
        "  '''\n",
        "    dataFrameList:   the data.  Can be multiple dataFrames in a list format for months or for hours.\n",
        "\n",
        "    searchLabel:  these are the labels either the hours of the day or months in a year.\n",
        "\n",
        "    number:   These are the numbers that correspond to the numbers of months or hours of day.\n",
        "\n",
        "    descriptorsWanted:  This is a list of strings that are the descriptors that are wanted.\n",
        "\n",
        "    returns:  Will return a list of Tuples in a similar format as the mostCommonCause method.\n",
        "   '''\n",
        "  theListToReturn = []\n",
        "  \n",
        "  for i in number:\n",
        "    descriptorStr = []\n",
        "    descriptorVal = []\n",
        "    #Looking for the values for the descriptors in each months or hour\n",
        "    # this is the format for searching: len(month_by_hour[5][0][month_by_hour[5][0]['Descriptor'] == \"Loud Music/Party\" ])\n",
        "    for j in range(len(descriptorsWanted)):\n",
        "      descriptorStr.append(descriptorsWanted[j])\n",
        "      descriptorVal.append(len(dataFrameList[i][dataFrameList[i]['Descriptor']== descriptorsWanted[j]]))\n",
        "\n",
        "    theListToReturn.append((searchLabel[i], descriptorStr, descriptorVal))\n",
        "  \n",
        "  return theListToReturn\n",
        "\n",
        "              "
      ],
      "execution_count": 0,
      "outputs": []
    },
    {
      "cell_type": "code",
      "metadata": {
        "id": "oU57WfybKkeq",
        "colab_type": "code",
        "colab": {}
      },
      "source": [
        "# Writing the function that will return the most common cause of noise disturbances in each month\n",
        "# Returns a list of lists index 0 : is String Month Name\",\"index 1 : string of Discriptor\", index 2: \"value\")\n",
        "# Made it to return different variables if wanted\n",
        "\n",
        "def mostCommonCause(dataFrameList, searchBy='all', theType=\"month\" ,ranksWanted='first', complaintType=False, locationType=False,\n",
        "                    descriptorsWanted=None):\n",
        "  '''dataFrameList :  the dataframes in a list\n",
        "     searchBy:  can be either 'all' or also a list of integers that represent the months wanted.\\n\n",
        "                 Jan will be 1:  Feb will be 2:  If is hour integer list are hours all is 24 hours\n",
        "     type:  type can be \"month\" or \"hour\"\n",
        "     \n",
        "     ranksWanted:  default will be the top rank.  Can get the ranks in a list ie [1,2,3]\n",
        "                   if descriptorsWanted is used then rankWanted will be ignored.\n",
        "\n",
        "     complaintType:  if set to True will also pack these values into the the tuple\n",
        "                     When set to false will not use pack these values in the tuple.\n",
        "     \n",
        "     descriptorsWanted:   This is used to search for specific descriptors and return their value.\n",
        "                          When this parameter is used the ranksWanted will be ignored.  LocationType and \n",
        "                          complaintType will be viewed as false.\n",
        "     \n",
        "    \n",
        "     returns: Will return a list of of tuples.\n",
        "              Each tuple will contain : [0]==\"string\" month name/hour name  [1] == \"string\" descriptor\n",
        "              [2] == value  \n",
        "              optional are  complaint string (if set to return it) and  complaint value\n",
        "              also option is location of complaint (string) and location values  \n",
        "                   '''\n",
        "  mostCommon = []\n",
        "  \n",
        "  numRanks = [1]\n",
        "  \n",
        "  if ranksWanted != 'first':\n",
        "    numRanks = ranksWanted\n",
        "  # SearchLabel is the label of either months or hours\n",
        "  # number is the correct number to coincide with the search type ie.  months(12 of them) or hours(24 of them).\n",
        "  searchLabel , number =  setUp(searchBy, theType)\n",
        "\n",
        "  # Checking to see if specific descriptors are wanted\n",
        "  if descriptorsWanted != None:\n",
        "    return getSpecificDescriptors(dataFrameList, searchLabel, number, descriptorsWanted)\n",
        "\n",
        "  else:\n",
        "    for i in range(len(number)): # Most outer loop -- loops through the months or the hours in the dataFrame\n",
        "      j = number[i]\n",
        "      # Getting the Series that contain the value_count()\n",
        "      s = dataFrameList[j]['Descriptor'].value_counts()\n",
        "      if complaintType == True:\n",
        "        complaintSeries = dataFrameList[j]['Complaint Type'].value_counts()\n",
        "      if locationType == True:\n",
        "        locationSeries = dataFrameList[j]['Location Type'].value_counts()\n",
        "      # Making the strings that will be put into the tuples\n",
        "      theStringList = []\n",
        "      theValueList = []\n",
        "      complaintTypeString = []\n",
        "      complaintTypeValues = []\n",
        "      locationTypeString = []\n",
        "      locationTypeValues = []\n",
        "      valuesToPutInTuple = []\n",
        "      # Running through the loops that will fill the lists for the tuples\n",
        "      for k in range(len(numRanks)):\n",
        "        rankNum = numRanks[k] -1\n",
        "        # index of the value counts has the string descriptor\n",
        "        if rankNum < (len(s.index)-1): \n",
        "          theStringList.append(s.index[rankNum])\n",
        "          theValueList.append(s[rankNum])\n",
        "        if complaintType == True and rankNum < (len(complaintSeries.index)-1):\n",
        "          complaintTypeString.append(complaintSeries.index[rankNum])\n",
        "          complaintTypeValues.append(complaintSeries[rankNum])\n",
        "        if locationType == True and rankNum < (len(locationSeries.index)-1):\n",
        "          locationTypeString.append(locationSeries.index[rankNum])\n",
        "          locationTypeValues.append(locationSeries[rankNum])\n",
        "      # Figuring how to make the tuple and load the lists\n",
        "      if complaintType == True:\n",
        "        if locationType == True:\n",
        "          mostCommon.append((searchLabel[j],theStringList, theValueList, complaintTypeString, \n",
        "                          complaintTypeValues, locationTypeString, locationTypeValues)) \n",
        "        else:\n",
        "          mostCommon.append((searchLabel[j],theStringList, theValueList, \n",
        "                          complaintTypeString, complaintTypeValues))\n",
        "      elif locationType == True:\n",
        "        mostCommon.append((searchLabel[j],theStringList, theValueList, locationTypeString, locationTypeValues))\n",
        "        \n",
        "      else:\n",
        "        mostCommon.append((searchLabel[j],theStringList, theValueList))\n",
        "\n",
        "  return mostCommon"
      ],
      "execution_count": 0,
      "outputs": []
    },
    {
      "cell_type": "code",
      "metadata": {
        "id": "Z9oF95DexjaQ",
        "colab_type": "code",
        "colab": {}
      },
      "source": [
        "#this is just a try\n",
        "#theis "
      ],
      "execution_count": 0,
      "outputs": []
    },
    {
      "cell_type": "code",
      "metadata": {
        "id": "IGYjlC1Gmt_8",
        "colab_type": "code",
        "outputId": "e8eec1c5-968d-43ad-b70b-645525edf8b2",
        "colab": {
          "base_uri": "https://localhost:8080/",
          "height": 1000
        }
      },
      "source": [
        "# Getting the 3 most common causes of noise disturbances per month in the year 2017\n",
        "# Returning the tuple with the complaint type and location type in included\n",
        "\n",
        "the3MostCommon = mostCommonCause(data_by_month, ranksWanted=[1,2,3], complaintType=True, locationType=True)\n",
        "the3MostCommon"
      ],
      "execution_count": 129,
      "outputs": [
        {
          "output_type": "execute_result",
          "data": {
            "text/plain": [
              "[('January',\n",
              "  ['Loud Music/Party', 'Banging/Pounding', 'Loud Talking'],\n",
              "  [14236, 6679, 2241],\n",
              "  ['Noise - Residential', 'Noise', 'Noise - Commercial'],\n",
              "  [17918, 4402, 3808],\n",
              "  ['Residential Building/House', 'Street/Sidewalk', 'Store/Commercial'],\n",
              "  [17918, 3181, 2087]),\n",
              " ('February',\n",
              "  ['Loud Music/Party', 'Banging/Pounding', 'Loud Talking'],\n",
              "  [12616, 5633, 2180],\n",
              "  ['Noise - Residential', 'Noise', 'Noise - Commercial'],\n",
              "  [15452, 4343, 3258],\n",
              "  ['Residential Building/House', 'Street/Sidewalk', 'Store/Commercial'],\n",
              "  [15452, 3514, 1760]),\n",
              " ('March',\n",
              "  ['Loud Music/Party', 'Banging/Pounding', 'Loud Talking'],\n",
              "  [12626, 6101, 2249],\n",
              "  ['Noise - Residential', 'Noise', 'Noise - Commercial'],\n",
              "  [16203, 4543, 3357],\n",
              "  ['Residential Building/House', 'Street/Sidewalk', 'Store/Commercial'],\n",
              "  [16203, 3324, 1850]),\n",
              " ('April',\n",
              "  ['Loud Music/Party', 'Banging/Pounding', 'Loud Talking'],\n",
              "  [21215, 5898, 4195],\n",
              "  ['Noise - Residential', 'Noise - Street/Sidewalk', 'Noise'],\n",
              "  [20578, 6438, 6410],\n",
              "  ['Residential Building/House', 'Street/Sidewalk', 'Store/Commercial'],\n",
              "  [20578, 9283, 2368]),\n",
              " ('May',\n",
              "  ['Loud Music/Party', 'Banging/Pounding', 'Loud Talking'],\n",
              "  [23195, 5500, 4264],\n",
              "  ['Noise - Residential', 'Noise - Street/Sidewalk', 'Noise'],\n",
              "  [20968, 7536, 6004],\n",
              "  ['Residential Building/House', 'Street/Sidewalk', 'Store/Commercial'],\n",
              "  [20968, 10798, 2432]),\n",
              " ('June',\n",
              "  ['Loud Music/Party', 'Loud Talking', 'Banging/Pounding'],\n",
              "  [28087, 4905, 4549],\n",
              "  ['Noise - Residential', 'Noise - Street/Sidewalk', 'Noise'],\n",
              "  [21603, 11100, 5354],\n",
              "  ['Residential Building/House', 'Street/Sidewalk', 'Store/Commercial'],\n",
              "  [21603, 14893, 2257]),\n",
              " ('July',\n",
              "  ['Loud Music/Party', 'Banging/Pounding', 'Loud Talking'],\n",
              "  [28633, 4322, 3803],\n",
              "  ['Noise - Residential', 'Noise - Street/Sidewalk', 'Noise'],\n",
              "  [21578, 11041, 4107],\n",
              "  ['Residential Building/House', 'Street/Sidewalk', 'Store/Commercial'],\n",
              "  [21578, 14277, 2102]),\n",
              " ('August',\n",
              "  ['Loud Music/Party', 'Banging/Pounding', 'Loud Talking'],\n",
              "  [25157, 4311, 4194],\n",
              "  ['Noise - Residential', 'Noise - Street/Sidewalk', 'Noise'],\n",
              "  [19854, 9602, 4483],\n",
              "  ['Residential Building/House', 'Street/Sidewalk', 'Store/Commercial'],\n",
              "  [19854, 12838, 2089]),\n",
              " ('September',\n",
              "  ['Loud Music/Party', 'Banging/Pounding', 'Loud Talking'],\n",
              "  [26571, 4892, 4570],\n",
              "  ['Noise - Residential', 'Noise - Street/Sidewalk', 'Noise'],\n",
              "  [21608, 9586, 5633],\n",
              "  ['Residential Building/House', 'Street/Sidewalk', 'Store/Commercial'],\n",
              "  [21608, 12846, 2378]),\n",
              " ('October',\n",
              "  ['Loud Music/Party', 'Banging/Pounding', 'Loud Talking'],\n",
              "  [21748, 6047, 4341],\n",
              "  ['Noise - Residential', 'Noise - Street/Sidewalk', 'Noise'],\n",
              "  [20489, 7088, 6260],\n",
              "  ['Residential Building/House', 'Street/Sidewalk', 'Store/Commercial'],\n",
              "  [20489, 9898, 2479]),\n",
              " ('November',\n",
              "  ['Loud Music/Party', 'Banging/Pounding', 'Loud Talking'],\n",
              "  [13577, 6140, 2678],\n",
              "  ['Noise - Residential', 'Noise', 'Noise - Commercial'],\n",
              "  [16469, 5026, 3386],\n",
              "  ['Residential Building/House', 'Street/Sidewalk', 'Store/Commercial'],\n",
              "  [16469, 4376, 1998]),\n",
              " ('December',\n",
              "  ['Loud Music/Party', 'Banging/Pounding', 'Loud Talking'],\n",
              "  [15347, 6378, 2116],\n",
              "  ['Noise - Residential', 'Noise - Commercial', 'Noise'],\n",
              "  [18234, 3984, 3686],\n",
              "  ['Residential Building/House', 'Street/Sidewalk', 'Store/Commercial'],\n",
              "  [18234, 3439, 2088])]"
            ]
          },
          "metadata": {
            "tags": []
          },
          "execution_count": 129
        }
      ]
    },
    {
      "cell_type": "code",
      "metadata": {
        "id": "dhQTmAd4FI-K",
        "colab_type": "code",
        "colab": {}
      },
      "source": [
        ""
      ],
      "execution_count": 0,
      "outputs": []
    },
    {
      "cell_type": "code",
      "metadata": {
        "id": "eYaJb-jpqFz4",
        "colab_type": "code",
        "colab": {}
      },
      "source": [
        "# A method to unpack the tuple to get ready for ploting\n",
        "# Will return a tuple of 3 lists ([\"string/month/hour\"], [string/descriptor\"],[values] )\n",
        "# This tuple can also be used to get the location values out if extras is set to True.\n",
        "# I will use this method again later to get the location values.  I have left the NAN values in the \n",
        "# location column and so some of the values ranks may be NAN.\n",
        "def unpackTuples(mostCommonTuple, rank=1, wantExtras=False):\n",
        "  '''rank:  the rank you want back. -- only one rank at a time can be used\n",
        "     wantExtras:  if you are planning to unpack more the just\n",
        "                  the first three items then set this to True \n",
        "    Returns:   Will return (month, descriptor, values) .... and also options to return\n",
        "              a second descriptor(location) and the (location values) for that\n",
        "      '''\n",
        "  month = []\n",
        "  descriptor = []\n",
        "  values = []\n",
        "  descriptor1 = []\n",
        "  descriptor2 = []\n",
        "  val1 = []\n",
        "  val2 = []\n",
        "\n",
        " \n",
        "\n",
        "  # Getting the length of the tuple to use in a for loop\n",
        "  tupleLength = len(mostCommonTuple[0])\n",
        "\n",
        "  for i in range(len(mostCommonTuple)):\n",
        "    # the for loop for unpacking the tuple\n",
        "    month.append(mostCommonTuple[i][0])\n",
        "    \n",
        "      \n",
        "    \n",
        "    if  (rank- 1) < len(mostCommonTuple[i][1]):\n",
        "      descriptor.append(mostCommonTuple[i][1][rank-1])\n",
        "      values.append(mostCommonTuple[i][2][rank-1])\n",
        "\n",
        "    if tupleLength > 3 and (rank - 1) < len(mostCommonTuple[i][3]):\n",
        "        descriptor1.append(mostCommonTuple[i][3][rank-1]) \n",
        "        val1.append(mostCommonTuple[i][4][rank-1])\n",
        "\n",
        "    if tupleLength == 7 and (rank - 1) < len(mostCommonTuple[i][5]):\n",
        "      descriptor2.append(mostCommonTuple[i][5][rank-1])\n",
        "      val2.append(mostCommonTuple[i][6][rank-1])\n",
        "      # deciding what to return\n",
        "  if tupleLength == 7 and wantExtras == True:\n",
        "    return month, descriptor, values, descriptor1, val1, descriptor2, val2\n",
        "  elif tupleLength == 5 and wantExtras == True:\n",
        "    return month, descriptor, values, descriptor1, val1\n",
        "  else:\n",
        "    return month, descriptor, values\n"
      ],
      "execution_count": 0,
      "outputs": []
    },
    {
      "cell_type": "code",
      "metadata": {
        "id": "ywbT3OoOtY-7",
        "colab_type": "code",
        "outputId": "5151d525-726e-4f76-bea5-4aca0af8f60b",
        "colab": {
          "base_uri": "https://localhost:8080/",
          "height": 70
        }
      },
      "source": [
        "# upacking the tuple to see the most common cause for noise\n",
        "months, description, myVals = unpackTuples(the3MostCommon, rank=1)\n",
        "# unpacking for the second most common cause of noise\n",
        "months, descrption2, val2 = unpackTuples(the3MostCommon, rank=2)\n",
        "# unpacking for the 3rd most common cause of noise complaints\n",
        "months, description3, val3 = unpackTuples(the3MostCommon, rank=3)\n",
        "print(months)\n",
        "print(len(descrption2))"
      ],
      "execution_count": 131,
      "outputs": [
        {
          "output_type": "stream",
          "text": [
            "['January', 'February', 'March', 'April', 'May', 'June', 'July', 'August', 'September', 'October', 'November', 'December']\n",
            "12\n"
          ],
          "name": "stdout"
        }
      ]
    },
    {
      "cell_type": "code",
      "metadata": {
        "id": "tGLHiTFBhZHU",
        "colab_type": "code",
        "outputId": "bc163a04-43e8-4f38-87ce-96035648460a",
        "colab": {
          "base_uri": "https://localhost:8080/",
          "height": 658
        }
      },
      "source": [
        "# Trying to make a dataFrame from this info to use a factorPlot\n",
        "firstDf = pd.DataFrame({\"Months\": months, 'Most Common Disturbance':description, \"Number of Times\":myVals})\n",
        "secondDf = pd.DataFrame({\"Months\":months, \"Second Most Common Disturbance\":descrption2, \"Number of Times\":val2})\n",
        "thirdDf = pd.DataFrame({\"Months\":months, \"Third Most Common Disturbance\": description3, \"Number of Times\":val3})\n",
        "\n",
        "newDf = pd.merge(firstDf, secondDf, how='outer', on=['Months'])\n",
        "newDf = pd.merge(newDf, thirdDf, how='outer', on=[\"Months\"])\n",
        "newDf.head(15)"
      ],
      "execution_count": 132,
      "outputs": [
        {
          "output_type": "execute_result",
          "data": {
            "text/html": [
              "<div>\n",
              "<style scoped>\n",
              "    .dataframe tbody tr th:only-of-type {\n",
              "        vertical-align: middle;\n",
              "    }\n",
              "\n",
              "    .dataframe tbody tr th {\n",
              "        vertical-align: top;\n",
              "    }\n",
              "\n",
              "    .dataframe thead th {\n",
              "        text-align: right;\n",
              "    }\n",
              "</style>\n",
              "<table border=\"1\" class=\"dataframe\">\n",
              "  <thead>\n",
              "    <tr style=\"text-align: right;\">\n",
              "      <th></th>\n",
              "      <th>Months</th>\n",
              "      <th>Most Common Disturbance</th>\n",
              "      <th>Number of Times_x</th>\n",
              "      <th>Second Most Common Disturbance</th>\n",
              "      <th>Number of Times_y</th>\n",
              "      <th>Third Most Common Disturbance</th>\n",
              "      <th>Number of Times</th>\n",
              "    </tr>\n",
              "  </thead>\n",
              "  <tbody>\n",
              "    <tr>\n",
              "      <th>0</th>\n",
              "      <td>January</td>\n",
              "      <td>Loud Music/Party</td>\n",
              "      <td>14236</td>\n",
              "      <td>Banging/Pounding</td>\n",
              "      <td>6679</td>\n",
              "      <td>Loud Talking</td>\n",
              "      <td>2241</td>\n",
              "    </tr>\n",
              "    <tr>\n",
              "      <th>1</th>\n",
              "      <td>February</td>\n",
              "      <td>Loud Music/Party</td>\n",
              "      <td>12616</td>\n",
              "      <td>Banging/Pounding</td>\n",
              "      <td>5633</td>\n",
              "      <td>Loud Talking</td>\n",
              "      <td>2180</td>\n",
              "    </tr>\n",
              "    <tr>\n",
              "      <th>2</th>\n",
              "      <td>March</td>\n",
              "      <td>Loud Music/Party</td>\n",
              "      <td>12626</td>\n",
              "      <td>Banging/Pounding</td>\n",
              "      <td>6101</td>\n",
              "      <td>Loud Talking</td>\n",
              "      <td>2249</td>\n",
              "    </tr>\n",
              "    <tr>\n",
              "      <th>3</th>\n",
              "      <td>April</td>\n",
              "      <td>Loud Music/Party</td>\n",
              "      <td>21215</td>\n",
              "      <td>Banging/Pounding</td>\n",
              "      <td>5898</td>\n",
              "      <td>Loud Talking</td>\n",
              "      <td>4195</td>\n",
              "    </tr>\n",
              "    <tr>\n",
              "      <th>4</th>\n",
              "      <td>May</td>\n",
              "      <td>Loud Music/Party</td>\n",
              "      <td>23195</td>\n",
              "      <td>Banging/Pounding</td>\n",
              "      <td>5500</td>\n",
              "      <td>Loud Talking</td>\n",
              "      <td>4264</td>\n",
              "    </tr>\n",
              "    <tr>\n",
              "      <th>5</th>\n",
              "      <td>June</td>\n",
              "      <td>Loud Music/Party</td>\n",
              "      <td>28087</td>\n",
              "      <td>Loud Talking</td>\n",
              "      <td>4905</td>\n",
              "      <td>Banging/Pounding</td>\n",
              "      <td>4549</td>\n",
              "    </tr>\n",
              "    <tr>\n",
              "      <th>6</th>\n",
              "      <td>July</td>\n",
              "      <td>Loud Music/Party</td>\n",
              "      <td>28633</td>\n",
              "      <td>Banging/Pounding</td>\n",
              "      <td>4322</td>\n",
              "      <td>Loud Talking</td>\n",
              "      <td>3803</td>\n",
              "    </tr>\n",
              "    <tr>\n",
              "      <th>7</th>\n",
              "      <td>August</td>\n",
              "      <td>Loud Music/Party</td>\n",
              "      <td>25157</td>\n",
              "      <td>Banging/Pounding</td>\n",
              "      <td>4311</td>\n",
              "      <td>Loud Talking</td>\n",
              "      <td>4194</td>\n",
              "    </tr>\n",
              "    <tr>\n",
              "      <th>8</th>\n",
              "      <td>September</td>\n",
              "      <td>Loud Music/Party</td>\n",
              "      <td>26571</td>\n",
              "      <td>Banging/Pounding</td>\n",
              "      <td>4892</td>\n",
              "      <td>Loud Talking</td>\n",
              "      <td>4570</td>\n",
              "    </tr>\n",
              "    <tr>\n",
              "      <th>9</th>\n",
              "      <td>October</td>\n",
              "      <td>Loud Music/Party</td>\n",
              "      <td>21748</td>\n",
              "      <td>Banging/Pounding</td>\n",
              "      <td>6047</td>\n",
              "      <td>Loud Talking</td>\n",
              "      <td>4341</td>\n",
              "    </tr>\n",
              "    <tr>\n",
              "      <th>10</th>\n",
              "      <td>November</td>\n",
              "      <td>Loud Music/Party</td>\n",
              "      <td>13577</td>\n",
              "      <td>Banging/Pounding</td>\n",
              "      <td>6140</td>\n",
              "      <td>Loud Talking</td>\n",
              "      <td>2678</td>\n",
              "    </tr>\n",
              "    <tr>\n",
              "      <th>11</th>\n",
              "      <td>December</td>\n",
              "      <td>Loud Music/Party</td>\n",
              "      <td>15347</td>\n",
              "      <td>Banging/Pounding</td>\n",
              "      <td>6378</td>\n",
              "      <td>Loud Talking</td>\n",
              "      <td>2116</td>\n",
              "    </tr>\n",
              "  </tbody>\n",
              "</table>\n",
              "</div>"
            ],
            "text/plain": [
              "       Months  ... Number of Times\n",
              "0     January  ...            2241\n",
              "1    February  ...            2180\n",
              "2       March  ...            2249\n",
              "3       April  ...            4195\n",
              "4         May  ...            4264\n",
              "5        June  ...            4549\n",
              "6        July  ...            3803\n",
              "7      August  ...            4194\n",
              "8   September  ...            4570\n",
              "9     October  ...            4341\n",
              "10   November  ...            2678\n",
              "11   December  ...            2116\n",
              "\n",
              "[12 rows x 7 columns]"
            ]
          },
          "metadata": {
            "tags": []
          },
          "execution_count": 132
        }
      ]
    },
    {
      "cell_type": "code",
      "metadata": {
        "id": "cMAjhiU6mwvy",
        "colab_type": "code",
        "outputId": "e8f7a2fc-14db-440e-f62e-247fa00d7505",
        "colab": {
          "base_uri": "https://localhost:8080/",
          "height": 655
        }
      },
      "source": [
        "# Plotting the 3 most common occurrences per month\n",
        "# Creating a hue for the  \"Total Noise Occurances\" so it will appear on the legend\n",
        "\n",
        "myHue = ['Total Number of Noise Complaints'] * 12\n",
        "fig , ax = plt.subplots(figsize=(15,10))\n",
        "#plt.figure(figsize=(12, 10))\n",
        "\n",
        "myfontdict = {'family': 'serif', 'color':'#de129d', 'size':'20'}\n",
        "\n",
        "# Setting up the dictionary that has the colors for the labels\n",
        "myColors = {\"Banging/Pounding\":\"#e82e38\", \"Loud Music/Party\":'#22de1f', \n",
        "            \"Noise: Construction Before/After Hours (NM1)\":'#2e47e8',\n",
        "            \"Loud Talking\":\"#31d3e8\", \"Noise: Construction Equipment (NC1)\":\"#cb4eed\", \n",
        "            \"Car/Truck Music\":\"#f5cf38\" }\n",
        "\n",
        "\n",
        "plt.title('Most common types of noise disturbances in New York City', fontdict=myfontdict);\n",
        "\n",
        "ax.set_ylabel(\"Number of Reported Noise Disturbances per Month\", fontdict={\"color\":\"#de129d\", 'size':15})\n",
        "xVals = np.arange(12)\n",
        "\n",
        "# Setting the x_ticks\n",
        "ax.set_xticks(xVals)\n",
        "ax.set_xticklabels(months, color='#295fab')\n",
        "\n",
        "\n",
        "\n",
        "\n",
        "# Setting the bar width\n",
        "barWidth = .25\n",
        "\n",
        "#sns.barplot(theMonthNames, length_of_data_by_month, palette=['lightblue'] ,hue=myHue, )\n",
        "#sns.barplot(months, myVals, hue=description, palette=['hotpink'] )\n",
        "#sns.barplot(months, val2, hue=descrption2, palette=['brown', 'lightgreen'], dodge=True)\n",
        "#sns.barplot(months, val3, hue=description3, palette=['lightgreen', 'brown'])\n",
        "for i in range(12):\n",
        "  p1 = ax.bar(xVals[i] - barWidth, myVals[i], width=barWidth, label =description[i], color=myColors[description[i]] )\n",
        "  p2 = ax.bar(xVals[i], val2[i], width=barWidth, label=descrption2[i], color=myColors[descrption2[i]] )\n",
        "  p3 = ax.bar(xVals[i] + barWidth, val3[i], width=barWidth, label=description3[i], color=myColors[description3[i]])\n",
        "\n",
        "\n",
        "# Setting the color for the y labels\n",
        "theYLabels = ax.get_yticklabels()\n",
        "for label in theYLabels:\n",
        "  label.set_color(\"#295fab\")\n",
        " \n",
        "\n",
        "# This is to remove the duplicate of the legends\n",
        "handles, labels = plt.gca().get_legend_handles_labels()\n",
        "by_label = dict(zip(labels, handles))\n",
        "plt.legend(by_label.values(), by_label.keys(), prop={'size':12})\n",
        "\n",
        "plt.text(x=-.87, y=-2000,  \n",
        "         s=\" Taken from 2017 New York City 311 calls                                                                                                                      \", \n",
        "         backgroundcolor = 'grey', color=\"#f0f0f0\", size=\"14\")\n",
        "\n",
        "plt.show();\n",
        "\n",
        "\n",
        "\n"
      ],
      "execution_count": 133,
      "outputs": [
        {
          "output_type": "display_data",
          "data": {
            "image/png": "[encoded data removed]",
            "text/plain": [
              "<Figure size 1080x720 with 1 Axes>"
            ]
          },
          "metadata": {
            "tags": []
          }
        }
      ]
    },
    {
      "cell_type": "markdown",
      "metadata": {
        "id": "wwyXyRoLgzhR",
        "colab_type": "text"
      },
      "source": [
        "# Where is the noise coming from during each month?"
      ]
    },
    {
      "cell_type": "code",
      "metadata": {
        "id": "hRE1-mYbFw-2",
        "colab_type": "code",
        "colab": {}
      },
      "source": [
        "# Pulling out all the info from the tuples that were created earlier with all the info about the noise in each month.\n",
        "# I am going to use the location description and the location values to graph in a bar chart where the noise disturbances\n",
        "# are happening.\n",
        "theMonths1, descrip1, descripVal1, comp1, compVal1, locdescrip1, locVal1 = unpackTuples(the3MostCommon, wantExtras=True)\n",
        "theMonths2, descrip2, descripVal2, comp2, compVal2, locdescrip2, locVal2 = unpackTuples(the3MostCommon, rank=2, wantExtras=True)\n",
        "theMonths3, descrip3, descripVal3, comp3, compVal3, locdescrip3, locVal3 = unpackTuples(the3MostCommon, rank=3, wantExtras=True)\n"
      ],
      "execution_count": 0,
      "outputs": []
    },
    {
      "cell_type": "code",
      "metadata": {
        "id": "W1xH0-zL_ZEB",
        "colab_type": "code",
        "outputId": "5d152d48-4735-4d9e-fe11-f7d33552cd2c",
        "colab": {
          "base_uri": "https://localhost:8080/",
          "height": 524
        }
      },
      "source": [
        "# Plotting the  3 Most common locations of the noise disturbances for each month\n",
        "\n",
        "theYLabelFontDict = {\"size\": '14', 'color':\"#de129d\"}\n",
        "fig, ax = plt.subplots(figsize=(15,8))\n",
        "\n",
        "# Making the x values\n",
        "xVals = np.arange(len(theMonths1))\n",
        "\n",
        "# Setting the x and y ticks and labels\n",
        "ax.set_xticks(xVals)\n",
        "ax.set_xticklabels(theMonths1)\n",
        "\n",
        "\n",
        "ax.set_ylabel(\"Number of times the noise disturbance was reported\" , fontdict=theYLabelFontDict)\n",
        "\n",
        "# This value is the complete width for each month.\n",
        "theWidth = .25\n",
        "\n",
        "# Setting the title of the graph\n",
        "ax.set_title(\"What are the most common locations for all types of Noise disturbances?\", fontdict=myfontdict)\n",
        "\n",
        "\n",
        "\n",
        "rect1 = ax.bar(xVals - (theWidth+ theWidth/25), locVal1, theWidth, label='Residential Building/House' )\n",
        "rect2 = ax.bar(xVals , locVal2, theWidth, label=\"Street/Sidewalk\")\n",
        "rect3 = ax.bar(xVals + (theWidth + theWidth/25), locVal3, theWidth, label=\"Store/Commercial\")\n",
        "\n",
        "\n",
        "\n",
        "\n",
        "# changing the size of font in the legend, so that can be better seen in the Medium article\n",
        "ax.legend(prop={'size':13})\n",
        "plt.show()\n",
        "\n",
        "\n",
        "\n"
      ],
      "execution_count": 135,
      "outputs": [
        {
          "output_type": "display_data",
          "data": {
            "image/png": "[encoded data removed]",
            "text/plain": [
              "<Figure size 1080x576 with 1 Axes>"
            ]
          },
          "metadata": {
            "tags": []
          }
        }
      ]
    },
    {
      "cell_type": "code",
      "metadata": {
        "id": "f7UKYjO-Rff9",
        "colab_type": "code",
        "colab": {}
      },
      "source": [
        ""
      ],
      "execution_count": 0,
      "outputs": []
    },
    {
      "cell_type": "code",
      "metadata": {
        "id": "jktIKFf9csKb",
        "colab_type": "code",
        "colab": {}
      },
      "source": [
        "# Going to further filter the data of the months to just contain \"Loud Music/Party\".\n",
        "# Will then look at where the Loud music and parties are occuring.\n",
        "\n",
        "# data_by_month is a list of the data for each month filtered on each month\n",
        "# will filter it also by 'Complaint Type' where the complaint is set as a Loud Music/Party\n",
        "data_by_month\n",
        "\n",
        "# List that will contain each months filtered info\n",
        "month_filtered_by_LoudMusic = []\n",
        "\n",
        "# Doing the filtering\n",
        "for i in data_by_month:\n",
        "  month_filtered_by_LoudMusic.append(i[i['Descriptor'] == \"Loud Music/Party\"])\n",
        "\n"
      ],
      "execution_count": 0,
      "outputs": []
    },
    {
      "cell_type": "code",
      "metadata": {
        "id": "W_iD5hvUrWOP",
        "colab_type": "code",
        "outputId": "8f69d91c-8644-4556-823a-994d71a01242",
        "colab": {
          "base_uri": "https://localhost:8080/",
          "height": 110
        }
      },
      "source": [
        "noise.head(1)"
      ],
      "execution_count": 137,
      "outputs": [
        {
          "output_type": "execute_result",
          "data": {
            "text/html": [
              "<div>\n",
              "<style scoped>\n",
              "    .dataframe tbody tr th:only-of-type {\n",
              "        vertical-align: middle;\n",
              "    }\n",
              "\n",
              "    .dataframe tbody tr th {\n",
              "        vertical-align: top;\n",
              "    }\n",
              "\n",
              "    .dataframe thead th {\n",
              "        text-align: right;\n",
              "    }\n",
              "</style>\n",
              "<table border=\"1\" class=\"dataframe\">\n",
              "  <thead>\n",
              "    <tr style=\"text-align: right;\">\n",
              "      <th></th>\n",
              "      <th>Created Date</th>\n",
              "      <th>Complaint Type</th>\n",
              "      <th>Descriptor</th>\n",
              "      <th>Location Type</th>\n",
              "      <th>Incident Address</th>\n",
              "    </tr>\n",
              "  </thead>\n",
              "  <tbody>\n",
              "    <tr>\n",
              "      <th>0</th>\n",
              "      <td>2016-12-31 00:00:17</td>\n",
              "      <td>Noise - Commercial</td>\n",
              "      <td>Loud Music/Party</td>\n",
              "      <td>Club/Bar/Restaurant</td>\n",
              "      <td>964 MCDONALD AVENUE</td>\n",
              "    </tr>\n",
              "  </tbody>\n",
              "</table>\n",
              "</div>"
            ],
            "text/plain": [
              "         Created Date  ...     Incident Address\n",
              "0 2016-12-31 00:00:17  ...  964 MCDONALD AVENUE\n",
              "\n",
              "[1 rows x 5 columns]"
            ]
          },
          "metadata": {
            "tags": []
          },
          "execution_count": 137
        }
      ]
    },
    {
      "cell_type": "code",
      "metadata": {
        "id": "GgvvyzP5jbUO",
        "colab_type": "code",
        "colab": {}
      },
      "source": [
        "# Using a previously built method to find the ranks in the filtered list\n",
        "compFiltered3mostCommon = mostCommonCause(month_filtered_by_LoudMusic, ranksWanted=[1,2,3], locationType=True, complaintType=True)"
      ],
      "execution_count": 0,
      "outputs": []
    },
    {
      "cell_type": "code",
      "metadata": {
        "id": "thUPWhjhxUZ0",
        "colab_type": "code",
        "outputId": "1ac26234-6c15-418c-a089-6c19baf4de35",
        "colab": {
          "base_uri": "https://localhost:8080/",
          "height": 1000
        }
      },
      "source": [
        "compFiltered3mostCommon\n",
        "# The first two list are empty becuase we had filtered on this [Descriptor]"
      ],
      "execution_count": 139,
      "outputs": [
        {
          "output_type": "execute_result",
          "data": {
            "text/plain": [
              "[('January',\n",
              "  [],\n",
              "  [],\n",
              "  ['Noise - Residential', 'Noise - Commercial', 'Noise - Street/Sidewalk'],\n",
              "  [10230, 2884, 1070],\n",
              "  ['Residential Building/House', 'Club/Bar/Restaurant', 'Store/Commercial'],\n",
              "  [10230, 1533, 1351]),\n",
              " ('February',\n",
              "  [],\n",
              "  [],\n",
              "  ['Noise - Residential', 'Noise - Commercial', 'Noise - Street/Sidewalk'],\n",
              "  [8785, 2444, 1315],\n",
              "  ['Residential Building/House', 'Street/Sidewalk', 'Club/Bar/Restaurant'],\n",
              "  [8785, 1315, 1286]),\n",
              " ('March',\n",
              "  [],\n",
              "  [],\n",
              "  ['Noise - Residential', 'Noise - Commercial', 'Noise - Street/Sidewalk'],\n",
              "  [8982, 2468, 1116],\n",
              "  ['Residential Building/House', 'Club/Bar/Restaurant', 'Store/Commercial'],\n",
              "  [8982, 1297, 1171]),\n",
              " ('April',\n",
              "  [],\n",
              "  [],\n",
              "  ['Noise - Residential', 'Noise - Street/Sidewalk', 'Noise - Commercial'],\n",
              "  [13220, 4379, 3372],\n",
              "  ['Residential Building/House', 'Street/Sidewalk', 'Club/Bar/Restaurant'],\n",
              "  [13220, 4379, 1817]),\n",
              " ('May',\n",
              "  [],\n",
              "  [],\n",
              "  ['Noise - Residential', 'Noise - Street/Sidewalk', 'Noise - Commercial'],\n",
              "  [14204, 5361, 3263],\n",
              "  ['Residential Building/House', 'Street/Sidewalk', 'Club/Bar/Restaurant'],\n",
              "  [14204, 5361, 1767]),\n",
              " ('June',\n",
              "  [],\n",
              "  [],\n",
              "  ['Noise - Residential', 'Noise - Street/Sidewalk', 'Noise - Commercial'],\n",
              "  [15733, 8477, 3103],\n",
              "  ['Residential Building/House', 'Street/Sidewalk', 'Club/Bar/Restaurant'],\n",
              "  [15733, 8477, 1693]),\n",
              " ('July',\n",
              "  [],\n",
              "  [],\n",
              "  ['Noise - Residential', 'Noise - Street/Sidewalk', 'Noise - Commercial'],\n",
              "  [16386, 8852, 2675],\n",
              "  ['Residential Building/House', 'Street/Sidewalk', 'Club/Bar/Restaurant'],\n",
              "  [16386, 8852, 1345]),\n",
              " ('August',\n",
              "  [],\n",
              "  [],\n",
              "  ['Noise - Residential', 'Noise - Street/Sidewalk', 'Noise - Commercial'],\n",
              "  [14399, 7347, 2645],\n",
              "  ['Residential Building/House', 'Street/Sidewalk', 'Club/Bar/Restaurant'],\n",
              "  [14399, 7347, 1401]),\n",
              " ('September',\n",
              "  [],\n",
              "  [],\n",
              "  ['Noise - Residential', 'Noise - Street/Sidewalk', 'Noise - Commercial'],\n",
              "  [15488, 7083, 3410],\n",
              "  ['Residential Building/House', 'Street/Sidewalk', 'Club/Bar/Restaurant'],\n",
              "  [15488, 7083, 1842]),\n",
              " ('October',\n",
              "  [],\n",
              "  [],\n",
              "  ['Noise - Residential', 'Noise - Street/Sidewalk', 'Noise - Commercial'],\n",
              "  [13188, 4798, 3334],\n",
              "  ['Residential Building/House', 'Street/Sidewalk', 'Club/Bar/Restaurant'],\n",
              "  [13188, 4798, 1715]),\n",
              " ('November',\n",
              "  [],\n",
              "  [],\n",
              "  ['Noise - Residential', 'Noise - Commercial', 'Noise - Street/Sidewalk'],\n",
              "  [9254, 2498, 1706],\n",
              "  ['Residential Building/House', 'Street/Sidewalk', 'Store/Commercial'],\n",
              "  [9254, 1706, 1303]),\n",
              " ('December',\n",
              "  [],\n",
              "  [],\n",
              "  ['Noise - Residential', 'Noise - Commercial', 'Noise - Street/Sidewalk'],\n",
              "  [10919, 3132, 1228],\n",
              "  ['Residential Building/House', 'Club/Bar/Restaurant', 'Store/Commercial'],\n",
              "  [10919, 1723, 1409])]"
            ]
          },
          "metadata": {
            "tags": []
          },
          "execution_count": 139
        }
      ]
    },
    {
      "cell_type": "code",
      "metadata": {
        "id": "euQg1GWUzvrP",
        "colab_type": "code",
        "colab": {}
      },
      "source": [
        "# Unpacking the tuple to have the lists for each rank\n",
        "theMonths, empty, empty2 , compStr1, compVal1, locStr1, locVal1 =  unpackTuples(compFiltered3mostCommon, rank=1, wantExtras=True)\n",
        "theMonths, empty, empty2, compStr2, compVal2, locStr2, locVal2 = unpackTuples(compFiltered3mostCommon, rank=2, wantExtras=True)\n",
        "theMonths, empty, empty2, compStr3, compVal3, locStr3, locVal3 = unpackTuples(compFiltered3mostCommon, rank=3, wantExtras=True)"
      ],
      "execution_count": 0,
      "outputs": []
    },
    {
      "cell_type": "code",
      "metadata": {
        "id": "oeBk_E4bp3TI",
        "colab_type": "code",
        "outputId": "f85fbebf-5181-4fc7-8170-5c7c214ec525",
        "colab": {
          "base_uri": "https://localhost:8080/",
          "height": 632
        }
      },
      "source": [
        "# Plotting the most common location for each month when the type of complaint is loud music / party\n",
        "\n",
        "\n",
        "fig, ax = plt.subplots(figsize=(15,10))\n",
        "\n",
        "ax.set_title(\"Most Common Locations for \\\"Loud Music/Parties\\\" in each month\", fontdict=myfontdict)\n",
        "\n",
        "# Setting the y Title\n",
        "ax.set_ylabel(\"Number of Reported Noise Disturbances per Month\", fontdict={\"color\":\"#de129d\", 'size':15})\n",
        "\n",
        "# making the x ticks\n",
        "xVals = np.arange(len(theMonths))\n",
        "\n",
        "ax.set_xticks(xVals)\n",
        "ax.set_xticklabels(theMonths)\n",
        "\n",
        "theWidth = .25\n",
        "theColors = {\"Residential Building/House\": \"#fc8700\", 'Club/Bar/Restaurant':\"#0cf000\", 'Store/Commercial':\"#005cf0\" , 'Street/Sidewalk':\"#ed022d\"}\n",
        "\n",
        "# Making a list to contain the list of location strings so that we can then use this to plot\n",
        "locStrings = [locStr1, locStr2, locStr3]\n",
        "\n",
        "for i in range(len(theMonths)):\n",
        "  mColor = theColors[locStr1[i]]\n",
        "  ax.bar(xVals[i] - (theWidth + theWidth/25), locVal1[i], width=theWidth, color=mColor,label=locStr1[i])\n",
        "for i in range(len(theMonths)):\n",
        "  mColor = theColors[locStr2[i]]\n",
        "  ax.bar(xVals[i] , locVal2, width=theWidth, color = mColor, label=locStr2[i])\n",
        "for i in range(len(theMonths)):\n",
        "  mColor = theColors[locStr3[i]]\n",
        "  ax.bar(xVals[i] + (theWidth + theWidth/25), locVal3, width=theWidth, color=mColor, label=locStr3[i])\n",
        "\n",
        "# This is to remove the duplicate of the legend \n",
        "# because when we turn it into a dictionary it can't have duplicate keys\n",
        "handles, labels = plt.gca().get_legend_handles_labels()\n",
        "by_label = dict(zip(labels, handles))\n",
        "plt.legend(by_label.values(), by_label.keys(), prop={\"size\":13}); # using properties to change the size to see better in the Medium article\n",
        "  \n",
        "\n",
        "\n",
        "\n",
        "\n"
      ],
      "execution_count": 141,
      "outputs": [
        {
          "output_type": "display_data",
          "data": {
            "image/png": "[encoded data removed]",
            "text/plain": [
              "<Figure size 1080x720 with 1 Axes>"
            ]
          },
          "metadata": {
            "tags": []
          }
        }
      ]
    },
    {
      "cell_type": "markdown",
      "metadata": {
        "id": "wrnGMbVehqUg",
        "colab_type": "text"
      },
      "source": [
        "# Would like to find out at what time of the day are certain noises disturbances happening."
      ]
    },
    {
      "cell_type": "code",
      "metadata": {
        "id": "stNGnfjw6PM5",
        "colab_type": "code",
        "outputId": "7220ecdf-4c01-4766-ab54-70e6653ba13b",
        "colab": {
          "base_uri": "https://localhost:8080/",
          "height": 110
        }
      },
      "source": [
        "data_by_month[0].head(1)"
      ],
      "execution_count": 142,
      "outputs": [
        {
          "output_type": "execute_result",
          "data": {
            "text/html": [
              "<div>\n",
              "<style scoped>\n",
              "    .dataframe tbody tr th:only-of-type {\n",
              "        vertical-align: middle;\n",
              "    }\n",
              "\n",
              "    .dataframe tbody tr th {\n",
              "        vertical-align: top;\n",
              "    }\n",
              "\n",
              "    .dataframe thead th {\n",
              "        text-align: right;\n",
              "    }\n",
              "</style>\n",
              "<table border=\"1\" class=\"dataframe\">\n",
              "  <thead>\n",
              "    <tr style=\"text-align: right;\">\n",
              "      <th></th>\n",
              "      <th>Created Date</th>\n",
              "      <th>Complaint Type</th>\n",
              "      <th>Descriptor</th>\n",
              "      <th>Location Type</th>\n",
              "      <th>Incident Address</th>\n",
              "    </tr>\n",
              "  </thead>\n",
              "  <tbody>\n",
              "    <tr>\n",
              "      <th>1068</th>\n",
              "      <td>2017-01-01 00:02:54</td>\n",
              "      <td>Noise - Residential</td>\n",
              "      <td>Loud Music/Party</td>\n",
              "      <td>Residential Building/House</td>\n",
              "      <td>255 79 STREET</td>\n",
              "    </tr>\n",
              "  </tbody>\n",
              "</table>\n",
              "</div>"
            ],
            "text/plain": [
              "            Created Date  ... Incident Address\n",
              "1068 2017-01-01 00:02:54  ...    255 79 STREET\n",
              "\n",
              "[1 rows x 5 columns]"
            ]
          },
          "metadata": {
            "tags": []
          },
          "execution_count": 142
        }
      ]
    },
    {
      "cell_type": "code",
      "metadata": {
        "id": "dlqDSb7PJSsD",
        "colab_type": "code",
        "colab": {}
      },
      "source": [
        "# I  will choose to some of the months instead of all the months, just because it would be so much \n",
        "# different dataSets with each month.\n",
        "# I will choose to look at this with the data filtered to type of the distubance being \"Loud Music/Parties\"\n",
        "# and also for the dataFrame not filtered to just Loud Music/Parties.\n",
        "\n",
        "# I will choose the months of January, July, December\n",
        "\n",
        "# I am going to create a function that will do the following:\n",
        "# Making the dataFrame that is broken up by hour in each month\n",
        "# Will get a list for each month that contains a list for each hour of the day\n",
        "\n",
        "\n",
        "# This is the inner Function takes in a dataFrame and then returns a list of the \n",
        "# data filterd by hour\n",
        "def innerHourFunc(data):\n",
        "  \n",
        "  theList = []\n",
        "  for i in range(24):\n",
        "    theList.append(data[data[\"Created Date\"].dt.hour == i])\n",
        "  return theList\n",
        "\n",
        "\n",
        "# This is another inner function that will return the month as a number \n",
        "# that can be used to access an index.\n",
        "# January will return 0\n",
        "def getTheMonth(theMonth):\n",
        "  theMonths = {\"January\": 0, \"February\": 1, \"March\": 2, \"April\":3, \"May\":4,\n",
        "               \"June\":5, \"July\":6, \"August\":7, \"September\":8, \"October\":9,\n",
        "               \"November\":10, \"December\":11}\n",
        "  return theMonths[theMonth]\n",
        "\n",
        "\n",
        "def getDatabyHour(dataFrame, broken_by_month=True, month=None):\n",
        "  ''' \n",
        "  dataFrame:  the dataFrame that is passed in\n",
        "\n",
        "  broken_by_month:   Default is \"True\", which means that the dataFrame that is passed in, is a list\n",
        "              that contains dataFrame filtered by each month.\n",
        "              If it is set to \"False\", then it means just a dataFrame is passed in and not a list of the \n",
        "              data broken up by month.\n",
        "\n",
        "  month:      default == None.  This parameteter can be used if \n",
        "              broken_by_month is True.  Can pass the name of a month to get back just the hour for the \n",
        "              month requested and not just all the months. The full name of the month will be passed in \n",
        "              as a string when requesting a specific month.\n",
        "  \n",
        "  Returns:    Will return a list of the data filtered by hour.\n",
        "              If the data was passed in as a list by each month then a list where each element is a month\n",
        "              will then hold a list for each hour in that month (list of lists).\n",
        "\n",
        "  '''\n",
        "  \n",
        "  listToReturn =[]\n",
        "  \n",
        "\n",
        "  if broken_by_month == True:\n",
        "    if month == None:\n",
        "      for i in range(12):\n",
        "        listToReturn.append(innerHourFunc(dataFrame[i]))\n",
        "    else:\n",
        "      listToReturn = innerHourFunc(dataFrame[getTheMonth(month)])\n",
        "  else:\n",
        "    listToReturn = innerHourFunc(dataFrame)\n",
        "  return listToReturn"
      ],
      "execution_count": 0,
      "outputs": []
    },
    {
      "cell_type": "code",
      "metadata": {
        "id": "hYwkYv_68EDR",
        "colab_type": "code",
        "colab": {}
      },
      "source": [
        "# Filtering by the hour on two month by month lists of dataFrames, where one dataSet has been pre-filtered where\n",
        "# the type of noise is \"LoudMusic/Parties\", and the other one is just broken up by months \n",
        "month_by_hour_preFiltered_LoudMusic = getDatabyHour(month_filtered_by_LoudMusic, broken_by_month=True)\n",
        "month_by_hour = getDatabyHour(data_by_month, broken_by_month=True)"
      ],
      "execution_count": 0,
      "outputs": []
    },
    {
      "cell_type": "code",
      "metadata": {
        "id": "1DHdqBj30npB",
        "colab_type": "code",
        "colab": {}
      },
      "source": [
        "january_by_hour = mostCommonCause(month_by_hour_preFiltered_LoudMusic[0], searchBy='all', theType='hour', ranksWanted=[1,2,3], locationType=True, complaintType=True )"
      ],
      "execution_count": 0,
      "outputs": []
    },
    {
      "cell_type": "code",
      "metadata": {
        "id": "8Yque5Yv6D-i",
        "colab_type": "code",
        "outputId": "83057cb3-28fc-46ac-d9d7-296abc705a7b",
        "colab": {
          "base_uri": "https://localhost:8080/",
          "height": 70
        }
      },
      "source": [
        "print(january_by_hour)\n",
        "print(len(january_by_hour))"
      ],
      "execution_count": 146,
      "outputs": [
        {
          "output_type": "stream",
          "text": [
            "[('12 a.m.', [], [], ['Noise - Residential', 'Noise - Commercial', 'Noise - Street/Sidewalk'], [1263, 450, 99], ['Residential Building/House', 'Club/Bar/Restaurant', 'Store/Commercial'], [1263, 271, 179]), ('1 a.m.', [], [], ['Noise - Residential', 'Noise - Commercial', 'Noise - Street/Sidewalk'], [1021, 397, 97], ['Residential Building/House', 'Club/Bar/Restaurant', 'Store/Commercial'], [1021, 222, 175]), ('2 a.m.', [], [], ['Noise - Residential', 'Noise - Commercial', 'Noise - Street/Sidewalk'], [710, 282, 57], ['Residential Building/House', 'Club/Bar/Restaurant', 'Store/Commercial'], [710, 181, 101]), ('3 a.m.', [], [], ['Noise - Residential', 'Noise - Commercial'], [496, 134], ['Residential Building/House', 'Club/Bar/Restaurant', 'Store/Commercial'], [496, 91, 43]), ('4 a.m.', [], [], ['Noise - Residential', 'Noise - Commercial', 'Noise - Street/Sidewalk'], [322, 38, 33], ['Residential Building/House', 'Street/Sidewalk', 'Club/Bar/Restaurant'], [322, 33, 31]), ('5 a.m.', [], [], ['Noise - Residential', 'Noise - Street/Sidewalk'], [191, 14], ['Residential Building/House', 'Street/Sidewalk', 'Club/Bar/Restaurant'], [191, 14, 7]), ('6 a.m.', [], [], ['Noise - Residential', 'Noise - Commercial'], [123, 17], ['Residential Building/House', 'Store/Commercial', 'Street/Sidewalk'], [123, 13, 12]), ('7 a.m.', [], [], ['Noise - Residential', 'Noise - Commercial', 'Noise - Street/Sidewalk'], [98, 22, 13], ['Residential Building/House', 'Store/Commercial', 'Street/Sidewalk'], [98, 19, 13]), ('8 a.m.', [], [], ['Noise - Residential', 'Noise - Street/Sidewalk', 'Noise - Commercial'], [91, 17, 12], ['Residential Building/House', 'Street/Sidewalk', 'Store/Commercial'], [91, 17, 8]), ('9 a.m.', [], [], ['Noise - Residential', 'Noise - Commercial', 'Noise - Street/Sidewalk'], [85, 32, 23], ['Residential Building/House', 'Store/Commercial', 'Street/Sidewalk'], [85, 27, 23]), ('10 a.m.', [], [], ['Noise - Residential', 'Noise - Commercial', 'Noise - Street/Sidewalk'], [139, 42, 16], ['Residential Building/House', 'Store/Commercial', 'Street/Sidewalk'], [139, 34, 16]), ('11 a.m.', [], [], ['Noise - Residential', 'Noise - Commercial', 'Noise - Street/Sidewalk'], [131, 34, 22], ['Residential Building/House', 'Store/Commercial', 'Street/Sidewalk'], [131, 26, 22]), ('12 p.m.', [], [], ['Noise - Residential', 'Noise - Street/Sidewalk', 'Noise - Commercial'], [141, 42, 29], ['Residential Building/House', 'Street/Sidewalk', 'Store/Commercial'], [141, 42, 24]), ('1 p.m.', [], [], ['Noise - Residential', 'Noise - Commercial'], [204, 40], ['Residential Building/House', 'Store/Commercial', 'Street/Sidewalk'], [204, 34, 25]), ('2 p.m.', [], [], ['Noise - Residential', 'Noise - Street/Sidewalk'], [188, 41], ['Residential Building/House', 'Street/Sidewalk', 'Store/Commercial'], [188, 41, 23]), ('3 p.m.', [], [], ['Noise - Residential', 'Noise - Street/Sidewalk', 'Noise - Commercial'], [239, 49, 33], ['Residential Building/House', 'Street/Sidewalk', 'Store/Commercial'], [239, 49, 24]), ('4 p.m.', [], [], ['Noise - Residential', 'Noise - Commercial', 'Noise - Street/Sidewalk'], [215, 43, 39], ['Residential Building/House', 'Street/Sidewalk', 'Store/Commercial'], [215, 39, 37]), ('5 p.m.', [], [], ['Noise - Residential', 'Noise - Street/Sidewalk'], [295, 89], ['Residential Building/House', 'Street/Sidewalk', 'Store/Commercial'], [295, 89, 36]), ('6 p.m.', [], [], ['Noise - Residential', 'Noise - Commercial'], [328, 65], ['Residential Building/House', 'Street/Sidewalk', 'Store/Commercial'], [328, 46, 39]), ('7 p.m.', [], [], ['Noise - Residential', 'Noise - Commercial'], [405, 78], ['Residential Building/House', 'Store/Commercial', 'Street/Sidewalk'], [405, 49, 40]), ('8 p.m.', [], [], ['Noise - Residential', 'Noise - Commercial', 'Noise - Street/Sidewalk'], [479, 115, 41], ['Residential Building/House', 'Store/Commercial', 'Club/Bar/Restaurant'], [479, 73, 42]), ('9 p.m.', [], [], ['Noise - Residential', 'Noise - Commercial', 'Noise - Street/Sidewalk'], [699, 157, 50], ['Residential Building/House', 'Club/Bar/Restaurant', 'Store/Commercial'], [699, 83, 74]), ('10 p.m.', [], [], ['Noise - Residential', 'Noise - Commercial', 'Noise - Street/Sidewalk'], [1066, 309, 69], ['Residential Building/House', 'Club/Bar/Restaurant', 'Store/Commercial'], [1066, 189, 120]), ('11 p.m.', [], [], ['Noise - Residential', 'Noise - Commercial', 'Noise - Street/Sidewalk'], [1301, 469, 94], ['Residential Building/House', 'Club/Bar/Restaurant', 'Store/Commercial'], [1301, 286, 183])]\n",
            "24\n"
          ],
          "name": "stdout"
        }
      ]
    },
    {
      "cell_type": "code",
      "metadata": {
        "id": "IMnBoK2u5MHt",
        "colab_type": "code",
        "colab": {}
      },
      "source": [
        ""
      ],
      "execution_count": 0,
      "outputs": []
    },
    {
      "cell_type": "code",
      "metadata": {
        "id": "uH-FO4-xBqHx",
        "colab_type": "code",
        "colab": {}
      },
      "source": [
        "# Each of these is a list by month which then contains a list by hour of most common causes\n",
        "# One list is prefiltered to have by only Noise disturbances from LoudMusic/Parties\n",
        "mostComm_month_by_hour = []\n",
        "for i in range(12):\n",
        "  mostComm_month_by_hour.append(mostCommonCause(month_by_hour[i], searchBy='all', theType='hour', ranksWanted=[1,2,3], \n",
        "                                                locationType=True, complaintType=True))\n",
        "\n",
        "mostComm_filteredLoudMusic_by_hour = []\n",
        "for i in range(12):\n",
        "  mostComm_filteredLoudMusic_by_hour.append(mostCommonCause(month_by_hour_preFiltered_LoudMusic[i], \n",
        "                                                            complaintType=True, locationType=True))\n"
      ],
      "execution_count": 0,
      "outputs": []
    },
    {
      "cell_type": "code",
      "metadata": {
        "id": "l4RdV7kZJs2V",
        "colab_type": "code",
        "colab": {}
      },
      "source": [
        "# Pulling out the months that I want\n",
        "jan_loudMusic_by_hour = mostComm_filteredLoudMusic_by_hour[0]\n",
        "june_loudMusic_by_hour = mostComm_filteredLoudMusic_by_hour[5]\n",
        "december_loudMusic_by_hour = mostComm_filteredLoudMusic_by_hour[11]\n",
        "\n",
        "jan_by_hour = mostComm_month_by_hour[0]\n",
        "june_by_hour = mostComm_month_by_hour[5]\n",
        "december_by_hour = mostComm_month_by_hour[11]"
      ],
      "execution_count": 0,
      "outputs": []
    },
    {
      "cell_type": "code",
      "metadata": {
        "id": "4zd1WJcwJ9mT",
        "colab_type": "code",
        "outputId": "753b4221-e85d-4c96-b969-1545a10972e9",
        "colab": {
          "base_uri": "https://localhost:8080/",
          "height": 1000
        }
      },
      "source": [
        "jan_by_hour"
      ],
      "execution_count": 149,
      "outputs": [
        {
          "output_type": "execute_result",
          "data": {
            "text/plain": [
              "[('12 a.m.',\n",
              "  ['Loud Music/Party', 'Banging/Pounding', 'Loud Talking'],\n",
              "  [1815, 471, 235],\n",
              "  ['Noise - Residential', 'Noise - Commercial', 'Noise'],\n",
              "  [1875, 551, 265],\n",
              "  ['Residential Building/House', 'Club/Bar/Restaurant', 'Street/Sidewalk'],\n",
              "  [1875, 310, 279]),\n",
              " ('1 a.m.',\n",
              "  ['Loud Music/Party', 'Banging/Pounding', 'Loud Talking'],\n",
              "  [1517, 336, 187],\n",
              "  ['Noise - Residential', 'Noise - Commercial', 'Noise'],\n",
              "  [1461, 451, 200],\n",
              "  ['Residential Building/House', 'Club/Bar/Restaurant', 'Street/Sidewalk'],\n",
              "  [1461, 252, 251]),\n",
              " ('2 a.m.',\n",
              "  ['Loud Music/Party', 'Banging/Pounding', 'Loud Talking'],\n",
              "  [1050, 207, 111],\n",
              "  ['Noise - Residential', 'Noise - Commercial', 'Noise'],\n",
              "  [975, 322, 96],\n",
              "  ['Residential Building/House', 'Club/Bar/Restaurant', 'Street/Sidewalk'],\n",
              "  [975, 203, 142]),\n",
              " ('3 a.m.',\n",
              "  ['Loud Music/Party', 'Banging/Pounding', 'Loud Talking'],\n",
              "  [672, 167, 90],\n",
              "  ['Noise - Residential', 'Noise - Commercial', 'Noise'],\n",
              "  [701, 180, 77],\n",
              "  ['Residential Building/House', 'Street/Sidewalk', 'Club/Bar/Restaurant'],\n",
              "  [701, 110, 107]),\n",
              " ('4 a.m.',\n",
              "  ['Loud Music/Party', 'Banging/Pounding', 'Loud Talking'],\n",
              "  [394, 119, 71],\n",
              "  ['Noise - Residential', 'Noise - Street/Sidewalk', 'Noise - Commercial'],\n",
              "  [466, 73, 62],\n",
              "  ['Residential Building/House', 'Street/Sidewalk', 'Club/Bar/Restaurant'],\n",
              "  [466, 123, 33]),\n",
              " ('5 a.m.',\n",
              "  ['Loud Music/Party',\n",
              "   'Banging/Pounding',\n",
              "   'Noise: Construction Before/After Hours (NM1)'],\n",
              "  [215, 103, 37],\n",
              "  ['Noise - Residential', 'Noise', 'Noise - Vehicle'],\n",
              "  [310, 71, 42],\n",
              "  ['Residential Building/House', 'Street/Sidewalk', 'Store/Commercial'],\n",
              "  [310, 68, 21]),\n",
              " ('6 a.m.',\n",
              "  ['Loud Music/Party',\n",
              "   'Banging/Pounding',\n",
              "   'Noise: Construction Before/After Hours (NM1)'],\n",
              "  [152, 150, 86],\n",
              "  ['Noise - Residential', 'Noise', 'Noise - Commercial'],\n",
              "  [242, 122, 83],\n",
              "  ['Residential Building/House', 'Store/Commercial', 'Street/Sidewalk'],\n",
              "  [242, 78, 66]),\n",
              " ('7 a.m.',\n",
              "  ['Banging/Pounding',\n",
              "   'Loud Music/Party',\n",
              "   'Noise: Construction Before/After Hours (NM1)'],\n",
              "  [159, 136, 106],\n",
              "  ['Noise - Residential', 'Noise', 'Noise - Commercial'],\n",
              "  [258, 228, 49],\n",
              "  ['Residential Building/House', 'Street/Sidewalk', 'Store/Commercial'],\n",
              "  [258, 68, 46]),\n",
              " ('8 a.m.',\n",
              "  ['Banging/Pounding',\n",
              "   'Noise: Construction Before/After Hours (NM1)',\n",
              "   'Loud Music/Party'],\n",
              "  [156, 130, 126],\n",
              "  ['Noise', 'Noise - Residential', 'Noise - Vehicle'],\n",
              "  [285, 252, 45],\n",
              "  ['Residential Building/House', 'Street/Sidewalk', 'Store/Commercial'],\n",
              "  [252, 72, 29]),\n",
              " ('9 a.m.',\n",
              "  ['Banging/Pounding',\n",
              "   'Loud Music/Party',\n",
              "   'Noise: Construction Before/After Hours (NM1)'],\n",
              "  [208, 146, 135],\n",
              "  ['Noise', 'Noise - Residential', 'Noise - Commercial'],\n",
              "  [311, 297, 58],\n",
              "  ['Residential Building/House', 'Street/Sidewalk', 'Store/Commercial'],\n",
              "  [297, 70, 53]),\n",
              " ('10 a.m.',\n",
              "  ['Banging/Pounding',\n",
              "   'Loud Music/Party',\n",
              "   'Noise: Construction Before/After Hours (NM1)'],\n",
              "  [203, 200, 90],\n",
              "  ['Noise - Residential', 'Noise', 'Noise - Commercial'],\n",
              "  [356, 257, 63],\n",
              "  ['Residential Building/House', 'Store/Commercial', 'Street/Sidewalk'],\n",
              "  [356, 55, 54]),\n",
              " ('11 a.m.',\n",
              "  ['Loud Music/Party',\n",
              "   'Banging/Pounding',\n",
              "   'Noise: Construction Before/After Hours (NM1)'],\n",
              "  [188, 166, 66],\n",
              "  ['Noise - Residential', 'Noise', 'Noise - Commercial'],\n",
              "  [316, 214, 48],\n",
              "  ['Residential Building/House', 'Street/Sidewalk', 'Store/Commercial'],\n",
              "  [316, 70, 40]),\n",
              " ('12 p.m.',\n",
              "  ['Loud Music/Party',\n",
              "   'Banging/Pounding',\n",
              "   'Noise: Construction Before/After Hours (NM1)'],\n",
              "  [215, 196, 50],\n",
              "  ['Noise - Residential', 'Noise', 'Noise - Street/Sidewalk'],\n",
              "  [353, 179, 64],\n",
              "  ['Residential Building/House', 'Street/Sidewalk', 'Store/Commercial'],\n",
              "  [353, 104, 36]),\n",
              " ('1 p.m.',\n",
              "  ['Loud Music/Party',\n",
              "   'Banging/Pounding',\n",
              "   'Noise: Construction Before/After Hours (NM1)'],\n",
              "  [269, 224, 50],\n",
              "  ['Noise - Residential', 'Noise', 'Noise - Commercial'],\n",
              "  [438, 172, 56],\n",
              "  ['Residential Building/House', 'Street/Sidewalk', 'Store/Commercial'],\n",
              "  [438, 85, 47]),\n",
              " ('2 p.m.',\n",
              "  ['Loud Music/Party',\n",
              "   'Banging/Pounding',\n",
              "   'Noise: Construction Before/After Hours (NM1)'],\n",
              "  [263, 185, 68],\n",
              "  ['Noise - Residential', 'Noise', 'Noise - Street/Sidewalk'],\n",
              "  [385, 184, 67],\n",
              "  ['Residential Building/House', 'Street/Sidewalk', 'Store/Commercial'],\n",
              "  [385, 106, 34]),\n",
              " ('3 p.m.',\n",
              "  ['Loud Music/Party', 'Banging/Pounding', 'Loud Talking'],\n",
              "  [325, 189, 77],\n",
              "  ['Noise - Residential', 'Noise', 'Noise - Street/Sidewalk'],\n",
              "  [445, 150, 91],\n",
              "  ['Residential Building/House', 'Street/Sidewalk', 'Store/Commercial'],\n",
              "  [445, 129, 44]),\n",
              " ('4 p.m.',\n",
              "  ['Loud Music/Party', 'Banging/Pounding', 'Loud Talking'],\n",
              "  [301, 227, 76],\n",
              "  ['Noise - Residential', 'Noise', 'Noise - Commercial'],\n",
              "  [471, 130, 68],\n",
              "  ['Residential Building/House', 'Street/Sidewalk', 'Store/Commercial'],\n",
              "  [471, 111, 61]),\n",
              " ('5 p.m.',\n",
              "  ['Loud Music/Party', 'Banging/Pounding', 'Loud Talking'],\n",
              "  [426, 274, 109],\n",
              "  ['Noise - Residential', 'Noise - Street/Sidewalk', 'Noise'],\n",
              "  [609, 127, 120],\n",
              "  ['Residential Building/House', 'Street/Sidewalk', 'Store/Commercial'],\n",
              "  [609, 180, 77]),\n",
              " ('6 p.m.',\n",
              "  ['Loud Music/Party',\n",
              "   'Banging/Pounding',\n",
              "   'Noise: Construction Before/After Hours (NM1)'],\n",
              "  [439, 332, 79],\n",
              "  ['Noise - Residential', 'Noise', 'Noise - Commercial'],\n",
              "  [684, 156, 90],\n",
              "  ['Residential Building/House', 'Street/Sidewalk', 'Store/Commercial'],\n",
              "  [684, 116, 63]),\n",
              " ('7 p.m.',\n",
              "  ['Loud Music/Party',\n",
              "   'Banging/Pounding',\n",
              "   'Noise: Construction Before/After Hours (NM1)'],\n",
              "  [523, 387, 88],\n",
              "  ['Noise - Residential', 'Noise', 'Noise - Commercial'],\n",
              "  [842, 172, 109],\n",
              "  ['Residential Building/House', 'Street/Sidewalk', 'Store/Commercial'],\n",
              "  [842, 117, 77]),\n",
              " ('8 p.m.',\n",
              "  ['Loud Music/Party',\n",
              "   'Banging/Pounding',\n",
              "   'Noise: Construction Before/After Hours (NM1)'],\n",
              "  [640, 438, 94],\n",
              "  ['Noise - Residential', 'Noise', 'Noise - Commercial'],\n",
              "  [965, 183, 146],\n",
              "  ['Residential Building/House', 'Street/Sidewalk', 'Store/Commercial'],\n",
              "  [965, 122, 102]),\n",
              " ('9 p.m.',\n",
              "  ['Loud Music/Party', 'Banging/Pounding', 'Loud Talking'],\n",
              "  [909, 546, 162],\n",
              "  ['Noise - Residential', 'Noise', 'Noise - Commercial'],\n",
              "  [1323, 238, 225],\n",
              "  ['Residential Building/House', 'Street/Sidewalk', 'Store/Commercial'],\n",
              "  [1323, 185, 129]),\n",
              " ('10 p.m.',\n",
              "  ['Loud Music/Party', 'Banging/Pounding', 'Loud Talking'],\n",
              "  [1448, 639, 222],\n",
              "  ['Noise - Residential', 'Noise - Commercial', 'Noise'],\n",
              "  [1825, 411, 262],\n",
              "  ['Residential Building/House', 'Street/Sidewalk', 'Club/Bar/Restaurant'],\n",
              "  [1825, 239, 210]),\n",
              " ('11 p.m.',\n",
              "  ['Loud Music/Party', 'Banging/Pounding', 'Loud Talking'],\n",
              "  [1867, 597, 262],\n",
              "  ['Noise - Residential', 'Noise - Commercial', 'Noise'],\n",
              "  [2069, 544, 276],\n",
              "  ['Residential Building/House', 'Street/Sidewalk', 'Club/Bar/Restaurant'],\n",
              "  [2069, 314, 311])]"
            ]
          },
          "metadata": {
            "tags": []
          },
          "execution_count": 149
        }
      ]
    },
    {
      "cell_type": "code",
      "metadata": {
        "id": "P7Dv5RTpkCno",
        "colab_type": "code",
        "colab": {}
      },
      "source": [
        "# unpacking the tuple for january\n",
        "theHours, jan_descripStr1, jan_descripVal1 = unpackTuples(jan_by_hour, rank=1)\n",
        "theHours, jan_descripStr2, jan_descripVal2 = unpackTuples(jan_by_hour, rank=2)\n",
        "theHours, jan_descripStr3, jan_descripVal3 = unpackTuples(jan_by_hour, rank=3)\n",
        "\n",
        "# unpacking the tuple for June\n",
        "theHours, jun_descripStr1, jun_descripVal1 = unpackTuples(june_by_hour, rank=1)\n",
        "theHours, jun_descripStr2, jun_descripVal2 = unpackTuples(june_by_hour, rank=2)\n",
        "theHours, jun_descripStr3, jun_descripVal3 = unpackTuples(june_by_hour, rank=3)\n",
        "\n",
        "# unpacking the tuple for december\n",
        "theHours, dec_descripStr1, dec_descripVal1 = unpackTuples(december_by_hour, rank=1)\n",
        "theHours, dec_descripStr2, dec_descripVal2 = unpackTuples(december_by_hour, rank=2)\n",
        "theHours, dec_descripStr3, dec_descripVal3 = unpackTuples(december_by_hour, rank=3)"
      ],
      "execution_count": 0,
      "outputs": []
    },
    {
      "cell_type": "code",
      "metadata": {
        "id": "MSMW_BX1blEu",
        "colab_type": "code",
        "outputId": "1471ad2d-9dcf-46d8-e059-67860c0f75d6",
        "colab": {
          "base_uri": "https://localhost:8080/",
          "height": 1000
        }
      },
      "source": [
        "# Doing the plotting of the months separated into hours to \n",
        "# show what the top 3 noise disturbances are at each hour\n",
        "\n",
        "searchLabel = ['12 a.m.', '1 a.m.', '2 a.m.', '3 a.m.', '4 a.m.', '5 a.m.', '6 a.m.', '7 a.m.', '8 a.m.', '9 a.m.', '10 a.m.', '11 a.m.', \n",
        "                   '12 p.m.', '1 p.m.', '2 p.m.', '3 p.m.', '4 p.m.', '5 p.m.', '6 p.m.', '7 p.m.', '8 p.m.', '9 p.m.', '10 p.m.', '11 p.m.']\n",
        "\n",
        "# Creating the colors for the barcharts\n",
        "myColors = {\"Banging/Pounding\":\"#e82e38\", \"Loud Music/Party\":'#22de1f', \n",
        "            \"Noise: Construction Before/After Hours (NM1)\":'#2e47e8',\n",
        "            \"Loud Talking\":\"#31d3e8\", \"Noise: Construction Equipment (NC1)\":\"#cb4eed\", \n",
        "            \"Car/Truck Music\":\"#4a3f1d\", 'Car/Truck Horn':\"#edf50f\" }\n",
        "\n",
        "fig, (janAx, junAx, decAx) = plt.subplots(3, figsize=(10, 35))\n",
        "\n",
        "#fig.suptitle(\"The Cause of Noise Disturbances per hour in the Following Months\", fontdict=myfontdict)\n",
        "\n",
        "# adding a title to each months\n",
        "janAx.set_title(\"January\", fontdict=myfontdict)\n",
        "junAx.set_title(\"June\", fontdict=myfontdict)\n",
        "decAx.set_title(\"December\", fontdict=myfontdict)\n",
        "\n",
        "# setting the x values\n",
        "xVals = np.arange(24)\n",
        "\n",
        "janAx.set_yticks(xVals)\n",
        "junAx.set_yticks(xVals)\n",
        "decAx.set_yticks(xVals)\n",
        "\n",
        "# setting the x tick labels\n",
        "janAx.set_yticklabels(theHours)\n",
        "junAx.set_yticklabels(searchLabel)\n",
        "decAx.set_yticklabels(searchLabel)\n",
        "\n",
        "# setting the x axis title\n",
        "janAx.set_xlabel(\"Number of Complaints\", fontdict={\"color\":\"#de129d\", 'size':15})\n",
        "junAx.set_xlabel(\"Number of Complaints\", fontdict={\"color\":\"#de129d\", 'size':15})\n",
        "decAx.set_xlabel(\"Number of Complaints\", fontdict={\"color\":\"#de129d\", 'size':15})\n",
        "\n",
        "\n",
        "# setting the y axis title\n",
        "janAx.set_ylabel(\"Time of day\", fontdict={\"color\":\"#de129d\", 'size':15})\n",
        "junAx.set_ylabel(\"Time of day\", fontdict={\"color\":\"#de129d\", 'size':15})\n",
        "decAx.set_ylabel(\"Time of day\", fontdict={\"color\":\"#de129d\", 'size':15})\n",
        "# the width of the bar\n",
        "barWidth = .25\n",
        "\n",
        "# dictionary to hold all the labels\n",
        "legendDict = {}\n",
        "\n",
        "# plotting the hours for January\n",
        "# plotting first those most common\n",
        "for i in range(24):\n",
        "  janAx.barh(xVals[i] - barWidth, jan_descripVal1[i],  height=barWidth, color =myColors[jan_descripStr1[i]], label=jan_descripStr1[i])\n",
        "  janAx.barh(xVals[i], jan_descripVal2[i], height=barWidth, color=myColors[jan_descripStr2[i]], label=jan_descripStr2[i])\n",
        "  janAx.barh(xVals[i] + barWidth, jan_descripVal3[i],  height=barWidth, color =myColors[jan_descripStr3[i]], label=jan_descripStr3[i])\n",
        "\n",
        "  junAx.barh(xVals[i] - barWidth, jun_descripVal1[i], height=barWidth, color=myColors[jun_descripStr1[i]], label=jun_descripStr1[i])\n",
        "  junAx.barh(xVals[i] , jun_descripVal2[i], height=barWidth, color=myColors[jun_descripStr2[i]], label=jun_descripStr2[i])\n",
        "  junAx.barh(xVals[i] + barWidth, jun_descripVal3[i], height=barWidth, color=myColors[jun_descripStr3[i]], label=jun_descripStr3[i])\n",
        "\n",
        " \n",
        "  decAx.barh(xVals[i] - barWidth, dec_descripVal1[i], height=barWidth, color=myColors[dec_descripStr1[i]], label=dec_descripStr1[i])\n",
        "  decAx.barh(xVals[i] , dec_descripVal2[i], height=barWidth, color=myColors[dec_descripStr2[i]], label=dec_descripStr2[i])\n",
        "  decAx.barh(xVals[i] + barWidth, dec_descripVal3[i], height=barWidth, color=myColors[dec_descripStr3[i]], label=dec_descripStr3[i])\n",
        "\n",
        "\n",
        "handles , labels = janAx.get_legend_handles_labels()\n",
        "legendDict.update(zip(labels, handles))\n",
        "\n",
        "handles, labels = junAx.get_legend_handles_labels()\n",
        "legendDict.update(zip(labels, handles))\n",
        "\n",
        "handles, labels = decAx.get_legend_handles_labels()\n",
        "legendDict.update(zip(labels, handles))\n",
        "\n",
        "\n",
        "\n",
        "# This is to remove the duplicate of the legend \n",
        "# because when we turn it into a dictionary it can't have duplicate keys\n",
        "#handles, labels = plt.gca().get_legend_handles_labels()\n",
        "#by_label = dict(zip(labels, handles))\n",
        "#plt.legend(by_label.values(), by_label.keys());\n",
        "\n",
        "janAx.legend(legendDict.values(), legendDict.keys(), prop={\"size\":13})\n",
        "decAx.legend(legendDict.values(), legendDict.keys(), prop={'size':13})\n",
        "junAx.legend(legendDict.values(), legendDict.keys(), prop={'size':13});"
      ],
      "execution_count": 151,
      "outputs": [
        {
          "output_type": "display_data",
          "data": {
            "image/png": "[encoded data removed]",
            "text/plain": [
              "<Figure size 720x2520 with 3 Axes>"
            ]
          },
          "metadata": {
            "tags": []
          }
        }
      ]
    },
    {
      "cell_type": "code",
      "metadata": {
        "id": "rSzHNpACdLq7",
        "colab_type": "code",
        "outputId": "2708cd85-10ef-4feb-8ae4-6abf66b8eaa1",
        "colab": {
          "base_uri": "https://localhost:8080/",
          "height": 363
        }
      },
      "source": [
        "# Combining the summer months and then putting separting by hour\n",
        "# so that I can see if it changes with three months combined.  Summer\n",
        "# months will be considered as \"June, July, August\"\n",
        "data_by_month\n",
        "\n",
        "summerMonths = pd.concat([data_by_month[5], data_by_month[6], data_by_month[7]], ignore_index=True)\n",
        "summerMonths.sample(5)"
      ],
      "execution_count": 152,
      "outputs": [
        {
          "output_type": "execute_result",
          "data": {
            "text/html": [
              "<div>\n",
              "<style scoped>\n",
              "    .dataframe tbody tr th:only-of-type {\n",
              "        vertical-align: middle;\n",
              "    }\n",
              "\n",
              "    .dataframe tbody tr th {\n",
              "        vertical-align: top;\n",
              "    }\n",
              "\n",
              "    .dataframe thead th {\n",
              "        text-align: right;\n",
              "    }\n",
              "</style>\n",
              "<table border=\"1\" class=\"dataframe\">\n",
              "  <thead>\n",
              "    <tr style=\"text-align: right;\">\n",
              "      <th></th>\n",
              "      <th>Created Date</th>\n",
              "      <th>Complaint Type</th>\n",
              "      <th>Descriptor</th>\n",
              "      <th>Location Type</th>\n",
              "      <th>Incident Address</th>\n",
              "    </tr>\n",
              "  </thead>\n",
              "  <tbody>\n",
              "    <tr>\n",
              "      <th>92672</th>\n",
              "      <td>2017-08-01 23:37:32</td>\n",
              "      <td>Noise - Street/Sidewalk</td>\n",
              "      <td>Loud Music/Party</td>\n",
              "      <td>Street/Sidewalk</td>\n",
              "      <td>222 WEST 233 STREET</td>\n",
              "    </tr>\n",
              "    <tr>\n",
              "      <th>54393</th>\n",
              "      <td>2017-07-04 20:40:07</td>\n",
              "      <td>Noise - Street/Sidewalk</td>\n",
              "      <td>Loud Music/Party</td>\n",
              "      <td>Street/Sidewalk</td>\n",
              "      <td>1296 PACIFIC STREET</td>\n",
              "    </tr>\n",
              "    <tr>\n",
              "      <th>89034</th>\n",
              "      <td>2017-07-30 04:52:15</td>\n",
              "      <td>Noise - Residential</td>\n",
              "      <td>Loud Music/Party</td>\n",
              "      <td>Residential Building/House</td>\n",
              "      <td>100-16 201 STREET</td>\n",
              "    </tr>\n",
              "    <tr>\n",
              "      <th>126891</th>\n",
              "      <td>2017-08-26 23:38:08</td>\n",
              "      <td>Noise - Commercial</td>\n",
              "      <td>Loud Music/Party</td>\n",
              "      <td>Club/Bar/Restaurant</td>\n",
              "      <td>NaN</td>\n",
              "    </tr>\n",
              "    <tr>\n",
              "      <th>214</th>\n",
              "      <td>2017-06-01 03:45:37</td>\n",
              "      <td>Noise - Residential</td>\n",
              "      <td>Banging/Pounding</td>\n",
              "      <td>Residential Building/House</td>\n",
              "      <td>83-96 118 STREET</td>\n",
              "    </tr>\n",
              "  </tbody>\n",
              "</table>\n",
              "</div>"
            ],
            "text/plain": [
              "              Created Date  ...     Incident Address\n",
              "92672  2017-08-01 23:37:32  ...  222 WEST 233 STREET\n",
              "54393  2017-07-04 20:40:07  ...  1296 PACIFIC STREET\n",
              "89034  2017-07-30 04:52:15  ...    100-16 201 STREET\n",
              "126891 2017-08-26 23:38:08  ...                  NaN\n",
              "214    2017-06-01 03:45:37  ...     83-96 118 STREET\n",
              "\n",
              "[5 rows x 5 columns]"
            ]
          },
          "metadata": {
            "tags": []
          },
          "execution_count": 152
        }
      ]
    },
    {
      "cell_type": "code",
      "metadata": {
        "id": "l12YSnUrYkyU",
        "colab_type": "code",
        "outputId": "e6c93673-26f0-4837-9c4b-a7d93e92f0b9",
        "colab": {
          "base_uri": "https://localhost:8080/",
          "height": 157
        }
      },
      "source": [
        "summerMonths_by_hour = getDatabyHour(summerMonths, broken_by_month=False)\n",
        "summerMonths_by_hour[0].head(2)"
      ],
      "execution_count": 153,
      "outputs": [
        {
          "output_type": "execute_result",
          "data": {
            "text/html": [
              "<div>\n",
              "<style scoped>\n",
              "    .dataframe tbody tr th:only-of-type {\n",
              "        vertical-align: middle;\n",
              "    }\n",
              "\n",
              "    .dataframe tbody tr th {\n",
              "        vertical-align: top;\n",
              "    }\n",
              "\n",
              "    .dataframe thead th {\n",
              "        text-align: right;\n",
              "    }\n",
              "</style>\n",
              "<table border=\"1\" class=\"dataframe\">\n",
              "  <thead>\n",
              "    <tr style=\"text-align: right;\">\n",
              "      <th></th>\n",
              "      <th>Created Date</th>\n",
              "      <th>Complaint Type</th>\n",
              "      <th>Descriptor</th>\n",
              "      <th>Location Type</th>\n",
              "      <th>Incident Address</th>\n",
              "    </tr>\n",
              "  </thead>\n",
              "  <tbody>\n",
              "    <tr>\n",
              "      <th>0</th>\n",
              "      <td>2017-06-01 00:00:40</td>\n",
              "      <td>Noise - Residential</td>\n",
              "      <td>Loud Music/Party</td>\n",
              "      <td>Residential Building/House</td>\n",
              "      <td>156-02 111 AVENUE</td>\n",
              "    </tr>\n",
              "    <tr>\n",
              "      <th>1</th>\n",
              "      <td>2017-06-01 00:00:59</td>\n",
              "      <td>Noise - Street/Sidewalk</td>\n",
              "      <td>Loud Music/Party</td>\n",
              "      <td>Street/Sidewalk</td>\n",
              "      <td>185 YORK STREET</td>\n",
              "    </tr>\n",
              "  </tbody>\n",
              "</table>\n",
              "</div>"
            ],
            "text/plain": [
              "         Created Date  ...   Incident Address\n",
              "0 2017-06-01 00:00:40  ...  156-02 111 AVENUE\n",
              "1 2017-06-01 00:00:59  ...    185 YORK STREET\n",
              "\n",
              "[2 rows x 5 columns]"
            ]
          },
          "metadata": {
            "tags": []
          },
          "execution_count": 153
        }
      ]
    },
    {
      "cell_type": "code",
      "metadata": {
        "id": "qwj9I2MsXz5x",
        "colab_type": "code",
        "outputId": "52ba480b-0e92-48ae-9a61-5c5f223b777d",
        "colab": {
          "base_uri": "https://localhost:8080/",
          "height": 612
        }
      },
      "source": [
        "# Will graph to see the hours that are the noisiest during the summer\n",
        "fig, ax = plt.subplots(figsize=(10, 10))\n",
        "\n",
        "ax.set_title(\"Noise disturbances per hour during the summer\", fontdict=myfontdict)\n",
        "\n",
        "# Setting the y ticks\n",
        "yVals = np.arange(24)\n",
        "ax.set_yticks(yVals)\n",
        "ax.set_yticklabels(theHours)\n",
        "\n",
        "theBarWidth = .5\n",
        "\n",
        "for i in range(24):\n",
        "  ax.barh(yVals[i], len(summerMonths_by_hour[i].index), height=theBarWidth, color=\"#20d5e6\" )"
      ],
      "execution_count": 154,
      "outputs": [
        {
          "output_type": "display_data",
          "data": {
            "image/png": "[encoded data removed]",
            "text/plain": [
              "<Figure size 720x720 with 1 Axes>"
            ]
          },
          "metadata": {
            "tags": []
          }
        }
      ]
    },
    {
      "cell_type": "code",
      "metadata": {
        "id": "BEfp1Nuoc7VH",
        "colab_type": "code",
        "colab": {}
      },
      "source": [
        ""
      ],
      "execution_count": 0,
      "outputs": []
    },
    {
      "cell_type": "markdown",
      "metadata": {
        "id": "N-KqU5tuAUcv",
        "colab_type": "text"
      },
      "source": [
        "# Following certain descriptors during the Month of June.\n",
        "Watching the amount change of 11 of the most common noise complaints throughout the day."
      ]
    },
    {
      "cell_type": "code",
      "metadata": {
        "id": "oVndYEtMArBP",
        "colab_type": "code",
        "colab": {}
      },
      "source": [
        "# Getting the June broken up by hour\n",
        "june_by_hour = getDatabyHour(data_by_month[5], broken_by_month=False)"
      ],
      "execution_count": 0,
      "outputs": []
    },
    {
      "cell_type": "code",
      "metadata": {
        "id": "jY0HeFFcBYzT",
        "colab_type": "code",
        "colab": {}
      },
      "source": [
        "# Getting the values of the following during each hour in June\n",
        "\n",
        "#Loud Music/Party                                         243008\n",
        "#Banging/Pounding                                          66450\n",
        "#Loud Talking                                              41736\n",
        "#Noise: Construction Before/After Hours (NM1)              27324\n",
        "#Car/Truck Music                                           16695\n",
        "#Noise: Construction Equipment (NC1)                        9149\n",
        "#Car/Truck Horn                                             7376\n",
        "#Engine Idling                                              7351\n",
        "#Noise, Barking Dog (NR5)                                   6916\n",
        "#Noise: air condition/ventilation equipment (NV1)           4769\n",
        "#Loud Television                                            4142\n",
        "\n",
        "descriptorsWant = [\"Loud Music/Party\", \"Banging/Pounding\", \"Loud Talking\", \"Noise: Construction Before/After Hours (NM1)\",\n",
        "                   'Car/Truck Music', \"Noise: Construction Equipment (NC1)\",\"Car/Truck Horn\", \n",
        "                   \"Engine Idling\",\"Noise, Barking Dog (NR5)\", \"Noise: air condition/ventilation equipment (NV1)\",\n",
        "                   \"Loud Television\"]\n",
        "theValues = mostCommonCause(june_by_hour, theType='hour', descriptorsWanted=descriptorsWant)"
      ],
      "execution_count": 0,
      "outputs": []
    },
    {
      "cell_type": "code",
      "metadata": {
        "id": "7FwvO4LaEZ1A",
        "colab_type": "code",
        "outputId": "5e73f134-e32c-4f9c-f4de-07ad70f0f0a3",
        "colab": {
          "base_uri": "https://localhost:8080/",
          "height": 1000
        }
      },
      "source": [
        "theValues"
      ],
      "execution_count": 157,
      "outputs": [
        {
          "output_type": "execute_result",
          "data": {
            "text/plain": [
              "[('12 a.m.',\n",
              "  ['Loud Music/Party',\n",
              "   'Banging/Pounding',\n",
              "   'Loud Talking',\n",
              "   'Noise: Construction Before/After Hours (NM1)',\n",
              "   'Car/Truck Music',\n",
              "   'Noise: Construction Equipment (NC1)',\n",
              "   'Car/Truck Horn',\n",
              "   'Engine Idling',\n",
              "   'Noise, Barking Dog (NR5)',\n",
              "   'Noise: air condition/ventilation equipment (NV1)',\n",
              "   'Loud Television'],\n",
              "  [3430, 342, 605, 150, 268, 8, 40, 43, 13, 24, 34]),\n",
              " ('1 a.m.',\n",
              "  ['Loud Music/Party',\n",
              "   'Banging/Pounding',\n",
              "   'Loud Talking',\n",
              "   'Noise: Construction Before/After Hours (NM1)',\n",
              "   'Car/Truck Music',\n",
              "   'Noise: Construction Equipment (NC1)',\n",
              "   'Car/Truck Horn',\n",
              "   'Engine Idling',\n",
              "   'Noise, Barking Dog (NR5)',\n",
              "   'Noise: air condition/ventilation equipment (NV1)',\n",
              "   'Loud Television'],\n",
              "  [2299, 211, 434, 127, 172, 4, 21, 24, 10, 20, 19]),\n",
              " ('2 a.m.',\n",
              "  ['Loud Music/Party',\n",
              "   'Banging/Pounding',\n",
              "   'Loud Talking',\n",
              "   'Noise: Construction Before/After Hours (NM1)',\n",
              "   'Car/Truck Music',\n",
              "   'Noise: Construction Equipment (NC1)',\n",
              "   'Car/Truck Horn',\n",
              "   'Engine Idling',\n",
              "   'Noise, Barking Dog (NR5)',\n",
              "   'Noise: air condition/ventilation equipment (NV1)',\n",
              "   'Loud Television'],\n",
              "  [1318, 172, 292, 63, 74, 3, 12, 16, 10, 14, 9]),\n",
              " ('3 a.m.',\n",
              "  ['Loud Music/Party',\n",
              "   'Banging/Pounding',\n",
              "   'Loud Talking',\n",
              "   'Noise: Construction Before/After Hours (NM1)',\n",
              "   'Car/Truck Music',\n",
              "   'Noise: Construction Equipment (NC1)',\n",
              "   'Car/Truck Horn',\n",
              "   'Engine Idling',\n",
              "   'Noise, Barking Dog (NR5)',\n",
              "   'Noise: air condition/ventilation equipment (NV1)',\n",
              "   'Loud Television'],\n",
              "  [689, 122, 158, 50, 48, 2, 5, 11, 4, 18, 5]),\n",
              " ('4 a.m.',\n",
              "  ['Loud Music/Party',\n",
              "   'Banging/Pounding',\n",
              "   'Loud Talking',\n",
              "   'Noise: Construction Before/After Hours (NM1)',\n",
              "   'Car/Truck Music',\n",
              "   'Noise: Construction Equipment (NC1)',\n",
              "   'Car/Truck Horn',\n",
              "   'Engine Idling',\n",
              "   'Noise, Barking Dog (NR5)',\n",
              "   'Noise: air condition/ventilation equipment (NV1)',\n",
              "   'Loud Television'],\n",
              "  [371, 82, 155, 65, 44, 3, 14, 25, 1, 10, 3]),\n",
              " ('5 a.m.',\n",
              "  ['Loud Music/Party',\n",
              "   'Banging/Pounding',\n",
              "   'Loud Talking',\n",
              "   'Noise: Construction Before/After Hours (NM1)',\n",
              "   'Car/Truck Music',\n",
              "   'Noise: Construction Equipment (NC1)',\n",
              "   'Car/Truck Horn',\n",
              "   'Engine Idling',\n",
              "   'Noise, Barking Dog (NR5)',\n",
              "   'Noise: air condition/ventilation equipment (NV1)',\n",
              "   'Loud Television'],\n",
              "  [178, 73, 81, 45, 20, 6, 12, 38, 3, 8, 4]),\n",
              " ('6 a.m.',\n",
              "  ['Loud Music/Party',\n",
              "   'Banging/Pounding',\n",
              "   'Loud Talking',\n",
              "   'Noise: Construction Before/After Hours (NM1)',\n",
              "   'Car/Truck Music',\n",
              "   'Noise: Construction Equipment (NC1)',\n",
              "   'Car/Truck Horn',\n",
              "   'Engine Idling',\n",
              "   'Noise, Barking Dog (NR5)',\n",
              "   'Noise: air condition/ventilation equipment (NV1)',\n",
              "   'Loud Television'],\n",
              "  [98, 104, 48, 109, 17, 16, 13, 34, 3, 8, 6]),\n",
              " ('7 a.m.',\n",
              "  ['Loud Music/Party',\n",
              "   'Banging/Pounding',\n",
              "   'Loud Talking',\n",
              "   'Noise: Construction Before/After Hours (NM1)',\n",
              "   'Car/Truck Music',\n",
              "   'Noise: Construction Equipment (NC1)',\n",
              "   'Car/Truck Horn',\n",
              "   'Engine Idling',\n",
              "   'Noise, Barking Dog (NR5)',\n",
              "   'Noise: air condition/ventilation equipment (NV1)',\n",
              "   'Loud Television'],\n",
              "  [98, 128, 63, 98, 3, 86, 29, 35, 19, 12, 6]),\n",
              " ('8 a.m.',\n",
              "  ['Loud Music/Party',\n",
              "   'Banging/Pounding',\n",
              "   'Loud Talking',\n",
              "   'Noise: Construction Before/After Hours (NM1)',\n",
              "   'Car/Truck Music',\n",
              "   'Noise: Construction Equipment (NC1)',\n",
              "   'Car/Truck Horn',\n",
              "   'Engine Idling',\n",
              "   'Noise, Barking Dog (NR5)',\n",
              "   'Noise: air condition/ventilation equipment (NV1)',\n",
              "   'Loud Television'],\n",
              "  [99, 121, 52, 121, 10, 82, 12, 41, 22, 25, 7]),\n",
              " ('9 a.m.',\n",
              "  ['Loud Music/Party',\n",
              "   'Banging/Pounding',\n",
              "   'Loud Talking',\n",
              "   'Noise: Construction Before/After Hours (NM1)',\n",
              "   'Car/Truck Music',\n",
              "   'Noise: Construction Equipment (NC1)',\n",
              "   'Car/Truck Horn',\n",
              "   'Engine Idling',\n",
              "   'Noise, Barking Dog (NR5)',\n",
              "   'Noise: air condition/ventilation equipment (NV1)',\n",
              "   'Loud Television'],\n",
              "  [144, 130, 63, 163, 15, 94, 14, 21, 39, 27, 3]),\n",
              " ('10 a.m.',\n",
              "  ['Loud Music/Party',\n",
              "   'Banging/Pounding',\n",
              "   'Loud Talking',\n",
              "   'Noise: Construction Before/After Hours (NM1)',\n",
              "   'Car/Truck Music',\n",
              "   'Noise: Construction Equipment (NC1)',\n",
              "   'Car/Truck Horn',\n",
              "   'Engine Idling',\n",
              "   'Noise, Barking Dog (NR5)',\n",
              "   'Noise: air condition/ventilation equipment (NV1)',\n",
              "   'Loud Television'],\n",
              "  [198, 141, 51, 100, 14, 77, 15, 29, 25, 47, 5]),\n",
              " ('11 a.m.',\n",
              "  ['Loud Music/Party',\n",
              "   'Banging/Pounding',\n",
              "   'Loud Talking',\n",
              "   'Noise: Construction Before/After Hours (NM1)',\n",
              "   'Car/Truck Music',\n",
              "   'Noise: Construction Equipment (NC1)',\n",
              "   'Car/Truck Horn',\n",
              "   'Engine Idling',\n",
              "   'Noise, Barking Dog (NR5)',\n",
              "   'Noise: air condition/ventilation equipment (NV1)',\n",
              "   'Loud Television'],\n",
              "  [266, 115, 67, 75, 22, 62, 21, 26, 36, 33, 3]),\n",
              " ('12 p.m.',\n",
              "  ['Loud Music/Party',\n",
              "   'Banging/Pounding',\n",
              "   'Loud Talking',\n",
              "   'Noise: Construction Before/After Hours (NM1)',\n",
              "   'Car/Truck Music',\n",
              "   'Noise: Construction Equipment (NC1)',\n",
              "   'Car/Truck Horn',\n",
              "   'Engine Idling',\n",
              "   'Noise, Barking Dog (NR5)',\n",
              "   'Noise: air condition/ventilation equipment (NV1)',\n",
              "   'Loud Television'],\n",
              "  [251, 114, 61, 48, 23, 47, 24, 33, 30, 25, 4]),\n",
              " ('1 p.m.',\n",
              "  ['Loud Music/Party',\n",
              "   'Banging/Pounding',\n",
              "   'Loud Talking',\n",
              "   'Noise: Construction Before/After Hours (NM1)',\n",
              "   'Car/Truck Music',\n",
              "   'Noise: Construction Equipment (NC1)',\n",
              "   'Car/Truck Horn',\n",
              "   'Engine Idling',\n",
              "   'Noise, Barking Dog (NR5)',\n",
              "   'Noise: air condition/ventilation equipment (NV1)',\n",
              "   'Loud Television'],\n",
              "  [339, 114, 59, 50, 25, 55, 35, 23, 19, 17, 5]),\n",
              " ('2 p.m.',\n",
              "  ['Loud Music/Party',\n",
              "   'Banging/Pounding',\n",
              "   'Loud Talking',\n",
              "   'Noise: Construction Before/After Hours (NM1)',\n",
              "   'Car/Truck Music',\n",
              "   'Noise: Construction Equipment (NC1)',\n",
              "   'Car/Truck Horn',\n",
              "   'Engine Idling',\n",
              "   'Noise, Barking Dog (NR5)',\n",
              "   'Noise: air condition/ventilation equipment (NV1)',\n",
              "   'Loud Television'],\n",
              "  [381, 112, 57, 40, 37, 47, 43, 31, 23, 25, 2]),\n",
              " ('3 p.m.',\n",
              "  ['Loud Music/Party',\n",
              "   'Banging/Pounding',\n",
              "   'Loud Talking',\n",
              "   'Noise: Construction Before/After Hours (NM1)',\n",
              "   'Car/Truck Music',\n",
              "   'Noise: Construction Equipment (NC1)',\n",
              "   'Car/Truck Horn',\n",
              "   'Engine Idling',\n",
              "   'Noise, Barking Dog (NR5)',\n",
              "   'Noise: air condition/ventilation equipment (NV1)',\n",
              "   'Loud Television'],\n",
              "  [425, 134, 81, 29, 62, 39, 55, 31, 19, 25, 7]),\n",
              " ('4 p.m.',\n",
              "  ['Loud Music/Party',\n",
              "   'Banging/Pounding',\n",
              "   'Loud Talking',\n",
              "   'Noise: Construction Before/After Hours (NM1)',\n",
              "   'Car/Truck Music',\n",
              "   'Noise: Construction Equipment (NC1)',\n",
              "   'Car/Truck Horn',\n",
              "   'Engine Idling',\n",
              "   'Noise, Barking Dog (NR5)',\n",
              "   'Noise: air condition/ventilation equipment (NV1)',\n",
              "   'Loud Television'],\n",
              "  [529, 153, 83, 30, 73, 26, 33, 34, 17, 25, 1]),\n",
              " ('5 p.m.',\n",
              "  ['Loud Music/Party',\n",
              "   'Banging/Pounding',\n",
              "   'Loud Talking',\n",
              "   'Noise: Construction Before/After Hours (NM1)',\n",
              "   'Car/Truck Music',\n",
              "   'Noise: Construction Equipment (NC1)',\n",
              "   'Car/Truck Horn',\n",
              "   'Engine Idling',\n",
              "   'Noise, Barking Dog (NR5)',\n",
              "   'Noise: air condition/ventilation equipment (NV1)',\n",
              "   'Loud Television'],\n",
              "  [741, 165, 108, 27, 84, 29, 57, 29, 27, 20, 2]),\n",
              " ('6 p.m.',\n",
              "  ['Loud Music/Party',\n",
              "   'Banging/Pounding',\n",
              "   'Loud Talking',\n",
              "   'Noise: Construction Before/After Hours (NM1)',\n",
              "   'Car/Truck Music',\n",
              "   'Noise: Construction Equipment (NC1)',\n",
              "   'Car/Truck Horn',\n",
              "   'Engine Idling',\n",
              "   'Noise, Barking Dog (NR5)',\n",
              "   'Noise: air condition/ventilation equipment (NV1)',\n",
              "   'Loud Television'],\n",
              "  [945, 195, 152, 72, 116, 16, 59, 34, 33, 24, 2]),\n",
              " ('7 p.m.',\n",
              "  ['Loud Music/Party',\n",
              "   'Banging/Pounding',\n",
              "   'Loud Talking',\n",
              "   'Noise: Construction Before/After Hours (NM1)',\n",
              "   'Car/Truck Music',\n",
              "   'Noise: Construction Equipment (NC1)',\n",
              "   'Car/Truck Horn',\n",
              "   'Engine Idling',\n",
              "   'Noise, Barking Dog (NR5)',\n",
              "   'Noise: air condition/ventilation equipment (NV1)',\n",
              "   'Loud Television'],\n",
              "  [1343, 240, 163, 85, 147, 19, 44, 53, 29, 24, 9]),\n",
              " ('8 p.m.',\n",
              "  ['Loud Music/Party',\n",
              "   'Banging/Pounding',\n",
              "   'Loud Talking',\n",
              "   'Noise: Construction Before/After Hours (NM1)',\n",
              "   'Car/Truck Music',\n",
              "   'Noise: Construction Equipment (NC1)',\n",
              "   'Car/Truck Horn',\n",
              "   'Engine Idling',\n",
              "   'Noise, Barking Dog (NR5)',\n",
              "   'Noise: air condition/ventilation equipment (NV1)',\n",
              "   'Loud Television'],\n",
              "  [1988, 283, 257, 100, 228, 12, 40, 58, 32, 21, 12]),\n",
              " ('9 p.m.',\n",
              "  ['Loud Music/Party',\n",
              "   'Banging/Pounding',\n",
              "   'Loud Talking',\n",
              "   'Noise: Construction Before/After Hours (NM1)',\n",
              "   'Car/Truck Music',\n",
              "   'Noise: Construction Equipment (NC1)',\n",
              "   'Car/Truck Horn',\n",
              "   'Engine Idling',\n",
              "   'Noise, Barking Dog (NR5)',\n",
              "   'Noise: air condition/ventilation equipment (NV1)',\n",
              "   'Loud Television'],\n",
              "  [3137, 383, 386, 135, 252, 14, 38, 47, 27, 25, 30]),\n",
              " ('10 p.m.',\n",
              "  ['Loud Music/Party',\n",
              "   'Banging/Pounding',\n",
              "   'Loud Talking',\n",
              "   'Noise: Construction Before/After Hours (NM1)',\n",
              "   'Car/Truck Music',\n",
              "   'Noise: Construction Equipment (NC1)',\n",
              "   'Car/Truck Horn',\n",
              "   'Engine Idling',\n",
              "   'Noise, Barking Dog (NR5)',\n",
              "   'Noise: air condition/ventilation equipment (NV1)',\n",
              "   'Loud Television'],\n",
              "  [4164, 483, 664, 198, 338, 19, 43, 78, 40, 35, 33]),\n",
              " ('11 p.m.',\n",
              "  ['Loud Music/Party',\n",
              "   'Banging/Pounding',\n",
              "   'Loud Talking',\n",
              "   'Noise: Construction Before/After Hours (NM1)',\n",
              "   'Car/Truck Music',\n",
              "   'Noise: Construction Equipment (NC1)',\n",
              "   'Car/Truck Horn',\n",
              "   'Engine Idling',\n",
              "   'Noise, Barking Dog (NR5)',\n",
              "   'Noise: air condition/ventilation equipment (NV1)',\n",
              "   'Loud Television'],\n",
              "  [4656, 432, 765, 164, 310, 19, 52, 64, 23, 28, 31])]"
            ]
          },
          "metadata": {
            "tags": []
          },
          "execution_count": 157
        }
      ]
    },
    {
      "cell_type": "code",
      "metadata": {
        "id": "L93KdUnJKtzr",
        "colab_type": "code",
        "colab": {}
      },
      "source": [
        "# This is a method that will built the list of values from just one of the descriptor\n",
        "# string types\n",
        "# Will return a tuple (descriptorString , hourList, valueList)\n",
        "def getDescValue(someNumber, values):\n",
        "  '''\n",
        "    someNumber:  this is the integer to acess the elememnt in the list of descriptor strings\n",
        "\n",
        "    values:  this is the list that has the all the values in a list of tuples as above\n",
        "\n",
        "    returns:  will return a tuple of(descriptorString, hourList, valueList)\n",
        "    '''\n",
        "  hourList = []\n",
        "  valueList = []\n",
        "  for tup in values:\n",
        "    hourList.append(tup[0])\n",
        "    valueList.append(tup[2][someNumber])\n",
        "  return (values[0][1][someNumber], hourList, valueList)  "
      ],
      "execution_count": 0,
      "outputs": []
    },
    {
      "cell_type": "code",
      "metadata": {
        "id": "0i6AMGdyBPZK",
        "colab_type": "code",
        "outputId": "f3aa9292-123a-4193-aa34-676dd507ffcb",
        "colab": {
          "base_uri": "https://localhost:8080/",
          "height": 680
        }
      },
      "source": [
        "# Graphing the data of each value per hour\n",
        "\n",
        "fig, ax = plt.subplots(figsize=(16, 10))\n",
        "\n",
        "# Setting x ticks \n",
        "xVals = np.arange(24)\n",
        "plt.xticks(xVals, rotation=\"45\")\n",
        "ax.set_xticklabels(theHours)\n",
        "\n",
        "# Setting the y ticks\n",
        "ax.set_ylabel(\"Number of Disturbances\", fontdict={\"color\":\"#de129d\", 'size':15})\n",
        "\n",
        "# Setting the Title\n",
        "ax.set_title(\"Noise Disturbances through out the day during June 2017\", fontdict=myfontdict)\n",
        "\n",
        "# Setting up the plot. Going through the descriptors\n",
        "for i in range(9):\n",
        "  descriptor, hourList, valList = getDescValue(i, theValues)\n",
        "  ax.plot(hourList, valList, label=descriptor)\n",
        "\n",
        "\n",
        "# zooming in to see some of the crowded values more easily\n",
        "ax.set_ylim(bottom=0, top=800, auto=False, )\n",
        "\n",
        "# adding some text to the bottom of the  graph\n",
        "plt.text(x=-1, y=-90, s=\"Graph has been zoomed in.                         Max for Loud Music/Party at 12 a.m. is:  3430, and at 11 p.m. is:  4656                  \", \n",
        "        backgroundcolor = 'grey', color=\"#f0f0f0\", size=\"14\")\n",
        "\n",
        "# prop is to change some of the properties of the legend.\n",
        "# Changing the size so that it can be seen better in the Medium article \n",
        "ax.legend(prop={'size':12}); "
      ],
      "execution_count": 159,
      "outputs": [
        {
          "output_type": "display_data",
          "data": {
            "image/png": "[encoded data removed]",
            "text/plain": [
              "<Figure size 1152x720 with 1 Axes>"
            ]
          },
          "metadata": {
            "tags": []
          }
        }
      ]
    },
    {
      "cell_type": "code",
      "metadata": {
        "id": "TZKuOQK1IPKT",
        "colab_type": "code",
        "colab": {}
      },
      "source": [
        ""
      ],
      "execution_count": 0,
      "outputs": []
    }
  ]
}